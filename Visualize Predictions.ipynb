{
 "cells": [
  {
   "cell_type": "code",
   "execution_count": 9,
   "id": "ba48fb3d",
   "metadata": {},
   "outputs": [],
   "source": [
    "import os\n",
    "import numpy as np\n",
    "import cv2\n",
    "import matplotlib.pyplot as plt\n",
    "from torch.utils.data import DataLoader\n",
    "from torch.utils.data import Dataset as BaseDataset\n",
    "import albumentations as albu\n",
    "import torch\n",
    "import segmentation_models_pytorch as smp\n",
    "\n",
    "import pandas as pd"
   ]
  },
  {
   "cell_type": "code",
   "execution_count": 3,
   "id": "168df218",
   "metadata": {},
   "outputs": [],
   "source": [
    "# DEVICE = 'cuda' if torch.cuda.is_available() else 'cpu'\n",
    "DEVICE = 'cpu'"
   ]
  },
  {
   "cell_type": "code",
   "execution_count": 4,
   "id": "b6b4248e",
   "metadata": {},
   "outputs": [],
   "source": [
    "DATA_DIR = './'\n",
    "x_train_dir = os.path.join(DATA_DIR, 'full_training_data/all_train_imgs')\n",
    "y_train_dir = os.path.join(DATA_DIR, 'full_training_data/all_train_masks')\n",
    "\n",
    "x_valid_dir = os.path.join(DATA_DIR, 'full_training_data/all_valid_imgs')\n",
    "y_valid_dir = os.path.join(DATA_DIR, 'full_training_data/all_valid_masks')\n",
    "\n",
    "x_test_dir = os.path.join(DATA_DIR, 'full_training_data/all_valid_imgs')\n",
    "y_test_dir = os.path.join(DATA_DIR, 'full_training_data/all_valid_masks')"
   ]
  },
  {
   "cell_type": "code",
   "execution_count": 5,
   "id": "f745e914",
   "metadata": {},
   "outputs": [],
   "source": [
    "# helper function for data visualization\n",
    "def visualize(**images):\n",
    "    \"\"\"PLot images in one row.\"\"\"\n",
    "    n = len(images)\n",
    "    plt.figure(figsize=(16, 5))\n",
    "    for i, (name, image) in enumerate(images.items()):\n",
    "        plt.subplot(1, n, i + 1)\n",
    "        plt.xticks([])\n",
    "        plt.yticks([])\n",
    "        plt.title(' '.join(name.split('_')).title())\n",
    "        plt.imshow(image)\n",
    "    plt.show()"
   ]
  },
  {
   "cell_type": "code",
   "execution_count": 6,
   "id": "53e39848",
   "metadata": {},
   "outputs": [],
   "source": [
    "class HubMapDataset(BaseDataset):\n",
    "    \"\"\"Read images, apply augmentation and preprocessing transformations.\n",
    "    \n",
    "    Args:\n",
    "        images_dir (str): path to images folder\n",
    "        masks_dir (str): path to segmentation masks folder\n",
    "        class_values (list): values of classes to extract from segmentation mask\n",
    "        augmentation (albumentations.Compose): data transfromation pipeline \n",
    "            (e.g. flip, scale, etc.)\n",
    "        preprocessing (albumentations.Compose): data preprocessing \n",
    "            (e.g. noralization, shape manipulation, etc.)\n",
    "    \n",
    "    \"\"\"\n",
    "    \n",
    "    CLASSES = ['unlabelled', 'blood_vessel']\n",
    "    \n",
    "    def __init__(\n",
    "            self, \n",
    "            images_dir, \n",
    "            masks_dir, \n",
    "            classes=None, \n",
    "            augmentation=None, \n",
    "            preprocessing=None,\n",
    "    ):\n",
    "        self.ids = os.listdir(images_dir)\n",
    "        self.images_fps = [os.path.join(images_dir, image_id) for image_id in self.ids]\n",
    "        self.masks_fps = [os.path.join(masks_dir, image_id) for image_id in self.ids]\n",
    "        \n",
    "        # convert str names to class values on masks\n",
    "        self.class_values = [self.CLASSES.index(cls.lower()) for cls in classes]\n",
    "        \n",
    "        self.augmentation = augmentation\n",
    "        self.preprocessing = preprocessing\n",
    "    \n",
    "    def __getitem__(self, i):\n",
    "        \n",
    "        # read data\n",
    "        image = cv2.imread(self.images_fps[i])\n",
    "        image = cv2.cvtColor(image, cv2.COLOR_BGR2RGB)\n",
    "        mask = cv2.imread(self.masks_fps[i], 0)\n",
    "        \n",
    "        # extract certain classes from mask (e.g. cars)\n",
    "        masks = [(mask == v) for v in self.class_values]\n",
    "        mask = np.stack(masks, axis=-1).astype('float')\n",
    "        \n",
    "        # apply augmentations\n",
    "        if self.augmentation:\n",
    "            sample = self.augmentation(image=image, mask=mask)\n",
    "            image, mask = sample['image'], sample['mask']\n",
    "        \n",
    "        # apply preprocessing\n",
    "        if self.preprocessing:\n",
    "            sample = self.preprocessing(image=image, mask=mask)\n",
    "            image, mask = sample['image'], sample['mask']\n",
    "            \n",
    "        return image, mask\n",
    "        \n",
    "    def __len__(self):\n",
    "        return len(self.ids)"
   ]
  },
  {
   "cell_type": "code",
   "execution_count": 7,
   "id": "377dabbc",
   "metadata": {},
   "outputs": [],
   "source": [
    "# Inference\n",
    "DEVICE = 'cpu'\n",
    "best_model = torch.load('./models/best_model.pth', map_location=torch.device('cpu'))\n",
    "best_model = best_model.to(DEVICE)"
   ]
  },
  {
   "cell_type": "code",
   "execution_count": 10,
   "id": "332f6709",
   "metadata": {
    "scrolled": true
   },
   "outputs": [
    {
     "data": {
      "text/html": [
       "<div>\n",
       "<style scoped>\n",
       "    .dataframe tbody tr th:only-of-type {\n",
       "        vertical-align: middle;\n",
       "    }\n",
       "\n",
       "    .dataframe tbody tr th {\n",
       "        vertical-align: top;\n",
       "    }\n",
       "\n",
       "    .dataframe thead th {\n",
       "        text-align: right;\n",
       "    }\n",
       "</style>\n",
       "<table border=\"1\" class=\"dataframe\">\n",
       "  <thead>\n",
       "    <tr style=\"text-align: right;\">\n",
       "      <th></th>\n",
       "      <th>ImageID</th>\n",
       "      <th>ImageHeight</th>\n",
       "      <th>ImageWidth</th>\n",
       "      <th>LabelName</th>\n",
       "      <th>Score</th>\n",
       "      <th>Mask</th>\n",
       "    </tr>\n",
       "  </thead>\n",
       "  <tbody>\n",
       "    <tr>\n",
       "      <th>0</th>\n",
       "      <td>41146970649b</td>\n",
       "      <td>512</td>\n",
       "      <td>512</td>\n",
       "      <td>blood_vessel</td>\n",
       "      <td>0.99</td>\n",
       "      <td>eNrLzU82NM60N/E29TGJ8ndOcUwyiLFzjnZMNEi1s/U3NA...</td>\n",
       "    </tr>\n",
       "    <tr>\n",
       "      <th>1</th>\n",
       "      <td>41146970649b</td>\n",
       "      <td>512</td>\n",
       "      <td>512</td>\n",
       "      <td>blood_vessel</td>\n",
       "      <td>0.98</td>\n",
       "      <td>eNrLywsyNU+3N/I3BEIjfwN/QwMENgASIKa/ka+pj6l3SG...</td>\n",
       "    </tr>\n",
       "    <tr>\n",
       "      <th>2</th>\n",
       "      <td>41146970649b</td>\n",
       "      <td>512</td>\n",
       "      <td>512</td>\n",
       "      <td>blood_vessel</td>\n",
       "      <td>0.97</td>\n",
       "      <td>eNrLiUs2MsyyN/Mz8jM0MPAHYiABhEZ+Jt5RiWGmAI3ECHM=</td>\n",
       "    </tr>\n",
       "    <tr>\n",
       "      <th>3</th>\n",
       "      <td>41146970649b</td>\n",
       "      <td>512</td>\n",
       "      <td>512</td>\n",
       "      <td>blood_vessel</td>\n",
       "      <td>0.98</td>\n",
       "      <td>eNpLiYs2Mc2wN/U39Df0MwKRQGjsa+pl5m3sa2Dgb2gAJP...</td>\n",
       "    </tr>\n",
       "    <tr>\n",
       "      <th>4</th>\n",
       "      <td>41146970649b</td>\n",
       "      <td>512</td>\n",
       "      <td>512</td>\n",
       "      <td>blood_vessel</td>\n",
       "      <td>0.97</td>\n",
       "      <td>eNoLyE03Ncu0N/I3hEIDAyAGMgwM/UBcIz8j34ygACMA2S...</td>\n",
       "    </tr>\n",
       "  </tbody>\n",
       "</table>\n",
       "</div>"
      ],
      "text/plain": [
       "        ImageID  ImageHeight  ImageWidth     LabelName  Score  \\\n",
       "0  41146970649b          512         512  blood_vessel   0.99   \n",
       "1  41146970649b          512         512  blood_vessel   0.98   \n",
       "2  41146970649b          512         512  blood_vessel   0.97   \n",
       "3  41146970649b          512         512  blood_vessel   0.98   \n",
       "4  41146970649b          512         512  blood_vessel   0.97   \n",
       "\n",
       "                                                Mask  \n",
       "0  eNrLzU82NM60N/E29TGJ8ndOcUwyiLFzjnZMNEi1s/U3NA...  \n",
       "1  eNrLywsyNU+3N/I3BEIjfwN/QwMENgASIKa/ka+pj6l3SG...  \n",
       "2   eNrLiUs2MsyyN/Mz8jM0MPAHYiABhEZ+Jt5RiWGmAI3ECHM=  \n",
       "3  eNpLiYs2Mc2wN/U39Df0MwKRQGjsa+pl5m3sa2Dgb2gAJP...  \n",
       "4  eNoLyE03Ncu0N/I3hEIDAyAGMgwM/UBcIz8j34ygACMA2S...  "
      ]
     },
     "execution_count": 10,
     "metadata": {},
     "output_type": "execute_result"
    }
   ],
   "source": [
    "masks_path = os.path.join(DATA_DIR, 'map_input_data/seg_preds_all_valid_preproc.csv')\n",
    "\n",
    "masks = pd.read_csv(masks_path)\n",
    "masks.head()"
   ]
  },
  {
   "cell_type": "code",
   "execution_count": 29,
   "id": "deb0c2c2",
   "metadata": {},
   "outputs": [
    {
     "data": {
      "text/plain": [
       "<matplotlib.image.AxesImage at 0x7fa2368bb220>"
      ]
     },
     "execution_count": 29,
     "metadata": {},
     "output_type": "execute_result"
    },
    {
     "data": {
      "image/png": "[encoded data removed]",
      "text/plain": [
       "<Figure size 640x480 with 1 Axes>"
      ]
     },
     "metadata": {},
     "output_type": "display_data"
    }
   ],
   "source": [
    "import zlib\n",
    "import base64\n",
    "from pycocotools import _mask as coco_mask\n",
    "import matplotlib.pyplot as plt\n",
    "\n",
    "def decodeMask(mask_string, image_size=[512,512]):\n",
    "    decoded_base64 = base64.b64decode(mask_string.encode('utf-8'))\n",
    "    decompressed_str = zlib.decompress(decoded_base64)\n",
    "    decoded_mask = coco_mask.decode([{\"size\": image_size,\"counts\": decompressed_str}])\n",
    "    return decoded_mask\n",
    "\n",
    "sampleMask = decodeMask(masks.iloc[0]['Mask'])\n",
    "\n",
    "plt.imshow(sampleMask)"
   ]
  },
  {
   "cell_type": "code",
   "execution_count": null,
   "id": "83328bf4",
   "metadata": {},
   "outputs": [],
   "source": []
  }
 ],
 "metadata": {
  "kernelspec": {
   "display_name": "HubMapEnv",
   "language": "python",
   "name": "hubmapenv"
  },
  "language_info": {
   "codemirror_mode": {
    "name": "ipython",
    "version": 3
   },
   "file_extension": ".py",
   "mimetype": "text/x-python",
   "name": "python",
   "nbconvert_exporter": "python",
   "pygments_lexer": "ipython3",
   "version": "3.10.11"
  }
 },
 "nbformat": 4,
 "nbformat_minor": 5
}
