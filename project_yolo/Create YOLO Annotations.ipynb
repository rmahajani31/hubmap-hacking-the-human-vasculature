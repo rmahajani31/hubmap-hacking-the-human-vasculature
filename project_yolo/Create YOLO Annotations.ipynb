{
 "cells": [
  {
   "cell_type": "code",
   "execution_count": 1,
   "id": "9c26dc7b",
   "metadata": {},
   "outputs": [],
   "source": [
    "import os\n",
    "import pickle\n",
    "import shutil"
   ]
  },
  {
   "cell_type": "code",
   "execution_count": 2,
   "id": "f23dedc2",
   "metadata": {},
   "outputs": [],
   "source": [
    "base_path = '../'\n",
    "use_merged_dataset = False\n",
    "generate_all_datset_annots = True\n",
    "base_data_dir = 'dataset1_files' if not generate_all_datset_annots else 'all_dataset_files'\n",
    "base_data_name = 'all_dataset1' if not generate_all_datset_annots else 'all_dataset'\n",
    "train_modes = ['train', 'validation']\n",
    "folds = [0]\n",
    "# annot_dirs_to_convert = [f'{base_path}/dataset1_files/all_dataset1_annotations_merged_train_0', f'{base_path}/dataset1_files/all_dataset1_annotations_merged_validation_0']"
   ]
  },
  {
   "cell_type": "code",
   "execution_count": 3,
   "id": "9a8facd5",
   "metadata": {},
   "outputs": [],
   "source": [
    "for fold in folds:\n",
    "  for train_mode in train_modes:\n",
    "    yolo_output_dir = f'{base_path}/{base_data_dir}/yolo_dataset1_{train_mode}_{fold}'\n",
    "    if os.path.exists(yolo_output_dir):\n",
    "      shutil.rmtree(yolo_output_dir)\n",
    "    os.mkdir(yolo_output_dir)\n",
    "    os.mkdir(f'{yolo_output_dir}/images')\n",
    "    os.mkdir(f'{yolo_output_dir}/labels')"
   ]
  },
  {
   "cell_type": "code",
   "execution_count": 4,
   "id": "24e558d0",
   "metadata": {},
   "outputs": [],
   "source": [
    "for fold in folds:\n",
    "  for train_mode in train_modes:\n",
    "    yolo_output_dir = f'{base_path}/{base_data_dir}/yolo_dataset1_{train_mode}_{fold}'\n",
    "    cur_img_dir = f'{base_path}/{base_data_dir}/{base_data_name}_imgs_merged_{train_mode}_{fold}' if use_merged_dataset else f'{base_path}/{base_data_dir}/{base_data_name}_imgs_{train_mode}_{fold}'\n",
    "    cur_annots_dir = f'{base_path}/{base_data_dir}/{base_data_name}_annotations_merged_{train_mode}_{fold}' if use_merged_dataset else f'{base_path}/{base_data_dir}/{base_data_name}_annotations_{train_mode}_{fold}'\n",
    "    for img in os.listdir(cur_img_dir):\n",
    "      img_id = img.split('.png')[0]\n",
    "      shutil.copy(f'{cur_img_dir}/{img}', f'{yolo_output_dir}/images/{img}')\n",
    "      img_annot_file = f'{cur_annots_dir}/{img_id}.pkl'\n",
    "      with open(img_annot_file, 'rb') as f:\n",
    "        cur_annots = pickle.load(f)\n",
    "      fp = open(f'{yolo_output_dir}/labels/{img_id}.txt', 'a')\n",
    "      for cur_annot in cur_annots:\n",
    "        top_left_x, top_left_y, width, height = cur_annot['bbox']\n",
    "        if train_mode=='validation' or train_mode=='train' or (not (top_left_x < 2 or top_left_y < 2 or 512-(top_left_x+width) < 2 or  512-(top_left_y+height) < 2)) or (width > 10 and height > 10):\n",
    "            cur_seg_relative = [float(coord)/512 for coord in cur_annot['segmentation'][0]]\n",
    "            cur_seg_str = ' '.join([str(coord) for coord in cur_seg_relative])\n",
    "            yolo_annot_line = f\"{cur_annot['category_id']} {cur_seg_str}\"\n",
    "            fp.write(f'{yolo_annot_line}\\n')\n",
    "      fp.close()"
   ]
  },
  {
   "cell_type": "code",
   "execution_count": null,
   "id": "f94a7270",
   "metadata": {},
   "outputs": [],
   "source": [
    "def check_duplicate_labels(coords1, coords2):\n",
    "    coords1 = [float(coord.replace('\\n', '')) for coord in coords1]\n",
    "    coords2 = [float(coord.replace('\\n', '')) for coord in coords2]\n",
    "    return all([x==y for x,y in zip(coords1, coords2)])"
   ]
  },
  {
   "cell_type": "code",
   "execution_count": null,
   "id": "d2af4360",
   "metadata": {},
   "outputs": [],
   "source": [
    "for fold in folds:\n",
    "  for train_mode in train_modes:\n",
    "    yolo_annot_dir = f'{base_path}/{base_data_dir}/yolo_dataset1_{train_mode}_{fold}/labels'\n",
    "    yolo_annot_files = os.listdir(yolo_annot_dir)\n",
    "    for yolo_annot_file in yolo_annot_files:\n",
    "        with open(f'{yolo_annot_dir}/{yolo_annot_file}', 'r') as f:\n",
    "            full_annot_data = f.readlines()\n",
    "        all_coords = [line.split(' ') for line in full_annot_data]\n",
    "        for i in range(len(all_coords)):\n",
    "            for j in range(i+1, len(all_coords)):\n",
    "                if check_duplicate_labels(all_coords[i], all_coords[j]):\n",
    "                    print(f'Found duplicate coords in file {yolo_annot_file}')"
   ]
  },
  {
   "cell_type": "code",
   "execution_count": 5,
   "id": "431bc9eb",
   "metadata": {},
   "outputs": [],
   "source": [
    "custom_config = \"\"\"lr0: 0.01  # initial learning rate (SGD=1E-2, Adam=1E-3)\n",
    "lrf: 0.1  # final OneCycleLR learning rate (lr0 * lrf)\n",
    "momentum: 0.937  # SGD momentum/Adam beta1\n",
    "weight_decay: 0.0005  # optimizer weight decay 5e-4\n",
    "warmup_epochs: 3.0  # warmup epochs (fractions ok)\n",
    "warmup_momentum: 0.8  # warmup initial momentum\n",
    "warmup_bias_lr: 0.1  # warmup initial bias lr\n",
    "box: 0.05  # box loss gain\n",
    "cls: 0.3  # cls loss gain\n",
    "cls_pw: 1.0  # cls BCELoss positive_weight\n",
    "obj: 0.7  # obj loss gain (scale with pixels)\n",
    "obj_pw: 1.0  # obj BCELoss positive_weight\n",
    "iou_t: 0.20  # IoU training threshold\n",
    "anchor_t: 4.0  # anchor-multiple threshold\n",
    "# anchors: 3  # anchors per output layer (0 to ignore)\n",
    "fl_gamma: 0.0  # focal loss gamma (efficientDet default gamma=1.5)\n",
    "hsv_h: 0.015  # image HSV-Hue augmentation (fraction)\n",
    "hsv_s: 0.7  # image HSV-Saturation augmentation (fraction)\n",
    "hsv_v: 0.4  # image HSV-Value augmentation (fraction)\n",
    "degrees: 0.0  # image rotation (+/- deg)\n",
    "translate: 0.1  # image translation (+/- fraction)\n",
    "scale: 0.9  # image scale (+/- gain)\n",
    "shear: 0.0  # image shear (+/- deg)\n",
    "perspective: 0.0  # image perspective (+/- fraction), range 0-0.001\n",
    "flipud: 0.0  # image flip up-down (probability)\n",
    "fliplr: 0.5  # image flip left-right (probability)\n",
    "mosaic: 1.0  # image mosaic (probability)\n",
    "mixup: 0.1  # image mixup (probability)\n",
    "copy_paste: 0.1  # segment copy-paste (probability)\"\"\""
   ]
  },
  {
   "cell_type": "code",
   "execution_count": 11,
   "id": "89a777d0",
   "metadata": {},
   "outputs": [
    {
     "data": {
      "text/plain": [
       "{'lr0': '0.01',\n",
       " 'lrf': '0.1',\n",
       " 'momentum': '0.937',\n",
       " 'weight_decay': '0.0005',\n",
       " 'warmup_epochs': '3.0',\n",
       " 'warmup_momentum': '0.8',\n",
       " 'warmup_bias_lr': '0.1',\n",
       " 'box': '0.05',\n",
       " 'cls': '0.3',\n",
       " 'cls_pw': '1.0',\n",
       " 'obj': '0.7',\n",
       " 'obj_pw': '1.0',\n",
       " 'iou_t': '0.20',\n",
       " 'anchor_t': '4.0',\n",
       " '': 'anchors:',\n",
       " 'fl_gamma': '0.0',\n",
       " 'hsv_h': '0.015',\n",
       " 'hsv_s': '0.7',\n",
       " 'hsv_v': '0.4',\n",
       " 'degrees': '0.0',\n",
       " 'translate': '0.1',\n",
       " 'scale': '0.9',\n",
       " 'shear': '0.0',\n",
       " 'perspective': '0.0',\n",
       " 'flipud': '0.0',\n",
       " 'fliplr': '0.5',\n",
       " 'mosaic': '1.0',\n",
       " 'mixup': '0.1',\n",
       " 'copy_paste': '0.1'}"
      ]
     },
     "execution_count": 11,
     "metadata": {},
     "output_type": "execute_result"
    }
   ],
   "source": [
    "custom_config_lines = custom_config.split('\\n')\n",
    "custom_dict = {custom_config_line.split()[0][:-1]: custom_config_line.split()[1] for custom_config_line in custom_config_lines }\n",
    "custom_dict"
   ]
  },
  {
   "cell_type": "code",
   "execution_count": null,
   "id": "c7241c39",
   "metadata": {},
   "outputs": [],
   "source": []
  }
 ],
 "metadata": {
  "kernelspec": {
   "display_name": "yolo_env",
   "language": "python",
   "name": "yolo_env"
  },
  "language_info": {
   "codemirror_mode": {
    "name": "ipython",
    "version": 3
   },
   "file_extension": ".py",
   "mimetype": "text/x-python",
   "name": "python",
   "nbconvert_exporter": "python",
   "pygments_lexer": "ipython3",
   "version": "3.10.9"
  }
 },
 "nbformat": 4,
 "nbformat_minor": 5
}
