{
 "cells": [
  {
   "cell_type": "code",
   "execution_count": 1,
   "id": "9c26dc7b",
   "metadata": {},
   "outputs": [],
   "source": [
    "from ultralytics.yolo.data.converter import convert_coco\n",
    "import os\n",
    "import pickle\n",
    "import shutil"
   ]
  },
  {
   "cell_type": "code",
   "execution_count": 4,
   "id": "f23dedc2",
   "metadata": {},
   "outputs": [],
   "source": [
    "base_path = '../'\n",
    "train_modes = ['train', 'validation']\n",
    "folds = [0]\n",
    "# annot_dirs_to_convert = [f'{base_path}/dataset1_files/all_dataset1_annotations_merged_train_0', f'{base_path}/dataset1_files/all_dataset1_annotations_merged_validation_0']"
   ]
  },
  {
   "cell_type": "code",
   "execution_count": 9,
   "id": "9a8facd5",
   "metadata": {},
   "outputs": [],
   "source": [
    "for fold in folds:\n",
    "  for train_mode in train_modes:\n",
    "    yolo_output_dir = f'{base_path}/dataset1_files/yolo_dataset1_{train_mode}_{fold}'\n",
    "    if os.path.exists(yolo_output_dir):\n",
    "      shutil.rmtree(yolo_output_dir)\n",
    "    os.mkdir(yolo_output_dir)\n",
    "    os.mkdir(f'{yolo_output_dir}/images')\n",
    "    os.mkdir(f'{yolo_output_dir}/labels')"
   ]
  },
  {
   "cell_type": "code",
   "execution_count": 10,
   "id": "24e558d0",
   "metadata": {},
   "outputs": [],
   "source": [
    "for fold in folds:\n",
    "  for train_mode in train_modes:\n",
    "    yolo_output_dir = f'{base_path}/dataset1_files/yolo_dataset1_{train_mode}_{fold}'\n",
    "    cur_img_dir = f'{base_path}/dataset1_files/all_dataset1_imgs_merged_{train_mode}_{fold}'\n",
    "    cur_annots_dir = f'{base_path}/dataset1_files/all_dataset1_annotations_merged_{train_mode}_{fold}'\n",
    "    for img in os.listdir(cur_img_dir):\n",
    "      img_id = img.split('.png')[0]\n",
    "      shutil.copy(f'{cur_img_dir}/{img}', f'{yolo_output_dir}/images/{img}')\n",
    "      img_annot_file = f'{cur_annots_dir}/{img_id}.pkl'\n",
    "      with open(img_annot_file, 'rb') as f:\n",
    "        cur_annots = pickle.load(f)\n",
    "      fp = open(f'{yolo_output_dir}/labels/{img_id}.txt', 'a')\n",
    "      for cur_annot in cur_annots:\n",
    "        cur_seg_relative = [float(coord)/512 for coord in cur_annot['segmentation'][0]]\n",
    "        cur_seg_str = ' '.join([str(coord) for coord in cur_seg_relative])\n",
    "        yolo_annot_line = f'0 {cur_seg_str}'\n",
    "        fp.write(f'{yolo_annot_line}\\n')\n",
    "      fp.close()"
   ]
  },
  {
   "cell_type": "code",
   "execution_count": null,
   "id": "f94a7270",
   "metadata": {},
   "outputs": [],
   "source": []
  }
 ],
 "metadata": {
  "kernelspec": {
   "display_name": "yolo_env",
   "language": "python",
   "name": "yolo_env"
  },
  "language_info": {
   "codemirror_mode": {
    "name": "ipython",
    "version": 3
   },
   "file_extension": ".py",
   "mimetype": "text/x-python",
   "name": "python",
   "nbconvert_exporter": "python",
   "pygments_lexer": "ipython3",
   "version": "3.10.11"
  }
 },
 "nbformat": 4,
 "nbformat_minor": 5
}
