{
 "cells": [
  {
   "cell_type": "code",
   "execution_count": 1,
   "metadata": {
    "_cell_guid": "b1076dfc-b9ad-4769-8c92-a6c4dae69d19",
    "_uuid": "8f2839f25d086af736a60e9eeb907d3b93b6e0e5",
    "execution": {
     "iopub.execute_input": "2023-06-18T08:12:08.367425Z",
     "iopub.status.busy": "2023-06-18T08:12:08.366969Z",
     "iopub.status.idle": "2023-06-18T08:12:12.936232Z",
     "shell.execute_reply": "2023-06-18T08:12:12.934809Z",
     "shell.execute_reply.started": "2023-06-18T08:12:08.367380Z"
    }
   },
   "outputs": [],
   "source": [
    "import numpy as np\n",
    "import pandas as pd\n",
    "import glob #, ipyplot\n",
    "import matplotlib.pyplot as plt\n",
    "from PIL import Image, ImageDraw, ImageFilter\n",
    "\n",
    "basepath = '/home/ec2-user/hubmap-hacking-the-human-vasculature'\n",
    "\n",
    "train = pd.read_csv(f'{basepath}/tile_meta.csv')\n",
    "train['path'] = train['id'].map(lambda x: basepath + 'train/' + str(x) + '.tif')\n",
    "wsi = pd.read_csv(p+'wsi_meta.csv')\n",
    "mask = pd.read_json(p+'polygons.jsonl', lines=True)\n",
    "\n",
    "test = pd.DataFrame(glob.glob(p+'test/**.tif'), columns=['path'])\n",
    "test['id'] = test['path'].map(lambda x: x.split('/')[-1].split('.')[0])\n",
    "\n",
    "sub = pd.read_csv(p+'sample_submission.csv')"
   ]
  },
  {
   "cell_type": "code",
   "execution_count": 2,
   "metadata": {
    "execution": {
     "iopub.execute_input": "2023-06-18T08:12:12.938947Z",
     "iopub.status.busy": "2023-06-18T08:12:12.938488Z",
     "iopub.status.idle": "2023-06-18T08:12:12.971555Z",
     "shell.execute_reply": "2023-06-18T08:12:12.970392Z",
     "shell.execute_reply.started": "2023-06-18T08:12:12.938905Z"
    }
   },
   "outputs": [],
   "source": [
    "train_annot = pd.merge(train, mask, on='id', how='inner')\n",
    "dataset1_ids = set(train_annot.loc[train_annot['dataset']==1, 'id'].values)\n",
    "dataset2_ids = set(train_annot.loc[train_annot['dataset']==2, 'id'].values)"
   ]
  },
  {
   "cell_type": "code",
   "execution_count": null,
   "metadata": {},
   "outputs": [],
   "source": [
    "print(train[wsi.source_wsi == 1])\n",
    "paths = train[train['source_wsi']==2].reset_index(drop=True)\n",
    "\n",
    "x, y = (paths.i.max() + 512, paths.j.max() + 512)\n",
    "x_, y_ = paths.i.min(), paths.j.min()\n",
    "img = Image.new(mode=\"RGB\", size=(x - x_,y - y_)) #'TIFF'\n",
    "draw = ImageDraw.Draw(img)\n",
    "tgt_ids = set(['6a4d868ab872'])\n",
    "for i in range(len(paths)):\n",
    "    img.paste(Image.open(paths.path[i]), (paths.i[i] - x_, paths.j[i] - y_))\n",
    "    if paths.id[i] in tgt_ids:\n",
    "        draw.rectangle([(paths.i[i] - x_, paths.j[i] - y_), (paths.i[i] - x_ + 512, paths.j[i] - y_ + 512)], outline=\"green\", width=50)\n",
    "    else:\n",
    "        if paths.id[i] in dataset1_ids:\n",
    "            draw.rectangle([(paths.i[i] - x_, paths.j[i] - y_), (paths.i[i] - x_ + 512, paths.j[i] - y_ + 512)], outline=\"red\", width=50)\n",
    "        if paths.id[i] in dataset2_ids:\n",
    "            draw.rectangle([(paths.i[i] - x_, paths.j[i] - y_), (paths.i[i] - x_ + 512, paths.j[i] - y_ + 512)], outline=\"blue\", width=50)\n",
    "    #break\n",
    "img = img.resize((x // 2, y // 2))\n",
    "plt.imshow(img)"
   ]
  },
  {
   "cell_type": "code",
   "execution_count": null,
   "metadata": {
    "execution": {
     "iopub.execute_input": "2023-05-28T05:09:27.311725Z",
     "iopub.status.busy": "2023-05-28T05:09:27.311311Z",
     "iopub.status.idle": "2023-05-28T05:09:27.332999Z",
     "shell.execute_reply": "2023-05-28T05:09:27.331702Z",
     "shell.execute_reply.started": "2023-05-28T05:09:27.311684Z"
    }
   },
   "outputs": [],
   "source": [
    "sub.to_csv('submission.csv', index=False)"
   ]
  }
 ],
 "metadata": {
  "kernelspec": {
   "display_name": "Python 3 (ipykernel)",
   "language": "python",
   "name": "python3"
  },
  "language_info": {
   "codemirror_mode": {
    "name": "ipython",
    "version": 3
   },
   "file_extension": ".py",
   "mimetype": "text/x-python",
   "name": "python",
   "nbconvert_exporter": "python",
   "pygments_lexer": "ipython3",
   "version": "3.10.9"
  }
 },
 "nbformat": 4,
 "nbformat_minor": 4
}
