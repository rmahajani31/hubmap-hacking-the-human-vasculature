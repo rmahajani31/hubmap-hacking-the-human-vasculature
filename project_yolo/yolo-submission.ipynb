{
 "cells": [
  {
   "cell_type": "code",
   "execution_count": null,
   "id": "e3ee5a38",
   "metadata": {
    "execution": {
     "iopub.execute_input": "2023-06-24T11:19:52.994651Z",
     "iopub.status.busy": "2023-06-24T11:19:52.994310Z",
     "iopub.status.idle": "2023-06-24T11:20:16.926153Z",
     "shell.execute_reply": "2023-06-24T11:20:16.925043Z"
    },
    "papermill": {
     "duration": 23.93895,
     "end_time": "2023-06-24T11:20:16.928592",
     "exception": false,
     "start_time": "2023-06-24T11:19:52.989642",
     "status": "completed"
    },
    "tags": []
   },
   "outputs": [],
   "source": [
    "# !pip3 install --no-index --find-links /kaggle/input/pycocotools-new/temporary-pycocotools pycocotools\n",
    "# !pip3 install --no-index /kaggle/input/yolov8-models/yolo_wheels/ultralytics-8.0.121-py3-none-any.whl --find-links /kaggle/input/yolov8-models/yolo_wheels"
   ]
  },
  {
   "cell_type": "code",
   "execution_count": 1,
   "id": "1c17ec0e",
   "metadata": {
    "_cell_guid": "b1076dfc-b9ad-4769-8c92-a6c4dae69d19",
    "_uuid": "8f2839f25d086af736a60e9eeb907d3b93b6e0e5",
    "execution": {
     "iopub.execute_input": "2023-06-24T11:20:16.938926Z",
     "iopub.status.busy": "2023-06-24T11:20:16.938624Z",
     "iopub.status.idle": "2023-06-24T11:20:29.317897Z",
     "shell.execute_reply": "2023-06-24T11:20:29.316944Z"
    },
    "papermill": {
     "duration": 12.386994,
     "end_time": "2023-06-24T11:20:29.320347",
     "exception": false,
     "start_time": "2023-06-24T11:20:16.933353",
     "status": "completed"
    },
    "tags": []
   },
   "outputs": [],
   "source": [
    "from ultralytics import YOLO\n",
    "import cv2\n",
    "import os\n",
    "import numpy as np\n",
    "import pandas as pd\n",
    "import shutil\n",
    "import pickle\n",
    "from matplotlib import pyplot as plt"
   ]
  },
  {
   "cell_type": "code",
   "execution_count": 2,
   "id": "f59f3895",
   "metadata": {
    "execution": {
     "iopub.execute_input": "2023-06-24T11:20:29.330698Z",
     "iopub.status.busy": "2023-06-24T11:20:29.329866Z",
     "iopub.status.idle": "2023-06-24T11:20:29.340418Z",
     "shell.execute_reply": "2023-06-24T11:20:29.339592Z"
    },
    "papermill": {
     "duration": 0.017654,
     "end_time": "2023-06-24T11:20:29.342400",
     "exception": false,
     "start_time": "2023-06-24T11:20:29.324746",
     "status": "completed"
    },
    "tags": []
   },
   "outputs": [],
   "source": [
    "import cv2\n",
    "import numpy as np\n",
    "import base64\n",
    "from pycocotools import _mask as coco_mask\n",
    "import typing as t\n",
    "\n",
    "import zlib\n",
    "\n",
    "def encode_binary_mask(mask: np.ndarray) -> t.Text:\n",
    "  \"\"\"Converts a binary mask into OID challenge encoding ascii text.\"\"\"\n",
    "\n",
    "  # check input mask --\n",
    "  if mask.dtype != np.bool_:\n",
    "    raise ValueError(\n",
    "        \"encode_binary_mask expects a binary mask, received dtype == %s\" %\n",
    "        mask.dtype)\n",
    "\n",
    "  mask = np.squeeze(mask)\n",
    "  if len(mask.shape) != 2:\n",
    "    raise ValueError(\n",
    "        \"encode_binary_mask expects a 2d mask, received shape == %s\" %\n",
    "        mask.shape)\n",
    "  \n",
    "  # convert input mask to expected COCO API input --\n",
    "  mask_to_encode = mask.reshape(mask.shape[0], mask.shape[1], 1)\n",
    "  mask_to_encode = mask_to_encode.astype(np.uint8)\n",
    "  mask_to_encode = np.asfortranarray(mask_to_encode)\n",
    "\n",
    "  # RLE encode mask --\n",
    "  encoded_mask = coco_mask.encode(mask_to_encode)[0][\"counts\"]\n",
    "\n",
    "  # compress and base64 encoding --\n",
    "  binary_str = zlib.compress(encoded_mask, zlib.Z_BEST_COMPRESSION)\n",
    "  base64_str = base64.b64encode(binary_str)\n",
    "  return base64_str"
   ]
  },
  {
   "cell_type": "code",
   "execution_count": 3,
   "id": "b000125b",
   "metadata": {
    "execution": {
     "iopub.execute_input": "2023-06-24T11:20:29.351840Z",
     "iopub.status.busy": "2023-06-24T11:20:29.351568Z",
     "iopub.status.idle": "2023-06-24T11:20:29.799558Z",
     "shell.execute_reply": "2023-06-24T11:20:29.798596Z"
    },
    "papermill": {
     "duration": 0.455463,
     "end_time": "2023-06-24T11:20:29.801995",
     "exception": false,
     "start_time": "2023-06-24T11:20:29.346532",
     "status": "completed"
    },
    "tags": []
   },
   "outputs": [],
   "source": [
    "basepath = '/home/ec2-user/hubmap-hacking-the-human-vasculature'\n",
    "model_path = '/home/ec2-user/hubmap-hacking-the-human-vasculature/project_yolo/model/best.pt'\n",
    "test_split_path = '/home/ec2-user/hubmap-hacking-the-human-vasculature/project_yolo/data/test_splits'\n",
    "model = YOLO(model_path)"
   ]
  },
  {
   "cell_type": "code",
   "execution_count": 4,
   "id": "0dd08e96",
   "metadata": {
    "execution": {
     "iopub.execute_input": "2023-06-24T11:20:29.813775Z",
     "iopub.status.busy": "2023-06-24T11:20:29.813473Z",
     "iopub.status.idle": "2023-06-24T11:20:29.819255Z",
     "shell.execute_reply": "2023-06-24T11:20:29.818111Z"
    },
    "papermill": {
     "duration": 0.013233,
     "end_time": "2023-06-24T11:20:29.821464",
     "exception": false,
     "start_time": "2023-06-24T11:20:29.808231",
     "status": "completed"
    },
    "tags": []
   },
   "outputs": [],
   "source": [
    "validation_folder = '/home/ec2-user/hubmap-hacking-the-human-vasculature/project_yolo/data/all_dataset1_imgs_validation_0'\n",
    "labels_folder = '/home/ec2-user/hubmap-hacking-the-human-vasculature/project_yolo/data/validation_labels'"
   ]
  },
  {
   "cell_type": "code",
   "execution_count": 5,
   "id": "cc7530b9",
   "metadata": {
    "scrolled": true
   },
   "outputs": [],
   "source": [
    "#splitting validation by wsi location\n",
    "#using each image as seperate validation set\n",
    "#using images i,j location to create a heat map\n",
    "\n",
    "split_type = 'wsi_location'\n",
    "split_type_path = f'{test_split_path}/{split_type}'\n",
    "yaml_path = f'{test_split_path}/{split_type}/yamls'\n",
    "\n",
    "if not (os.path.exists(split_type_path)):\n",
    "    os.makedirs(split_type_path)  \n",
    "    \n",
    "if not (os.path.exists(yaml_path)):\n",
    "    os.makedirs(yaml_path)\n",
    "    \n",
    "val_imgs = os.listdir(validation_folder)\n",
    "tile_meta = pd.read_csv(f'{basepath}/tile_meta.csv')\n",
    "tile_map = {}\n",
    "for i in range(len(tile_meta)):\n",
    "    data = tile_meta.iloc[i]\n",
    "    tile_map[data['id']] = [data['i'], data['j']]"
   ]
  },
  {
   "cell_type": "code",
   "execution_count": 6,
   "id": "f362c1a7",
   "metadata": {},
   "outputs": [],
   "source": [
    "val_img_ids = []\n",
    "for img in os.listdir(validation_folder):\n",
    "    img_id = img.split('.')[0]\n",
    "    val_img_ids.append(img_id)\n",
    "    if not (os.path.exists(f'{split_type_path}/{img_id}')):\n",
    "        os.makedirs(f'{split_type_path}/{img_id}')\n",
    "        os.makedirs(f'{split_type_path}/{img_id}/images')\n",
    "        os.makedirs(f'{split_type_path}/{img_id}/labels')\n",
    "        shutil.copy(f'{validation_folder}/{img}', f'{split_type_path}/{img_id}/images/{img}')\n",
    "        shutil.copy(f'{labels_folder}/{img_id}.txt', f'{split_type_path}/{img_id}/labels/{img_id}.txt')\n",
    "    with open(f'{yaml_path}/{img_id}.yaml', 'w') as file:\n",
    "        file.write(f'path: {split_type_path}\\n')\n",
    "        file.write(f'train: {img_id}/images\\n')\n",
    "        file.write(f'val: {img_id}/images\\n')\n",
    "        file.write('nc: 1\\n')\n",
    "        file.write(\"names: ['blood vessel']\")"
   ]
  },
  {
   "cell_type": "code",
   "execution_count": 7,
   "id": "04da5d05",
   "metadata": {},
   "outputs": [
    {
     "name": "stdout",
     "output_type": "stream",
     "text": [
      "['00d75ad65de3', '15e5df255b86', '9afac4fc65ef', '00656c6f2690', '0e0836cf1824', 'e63d156bc72f', '0a10b8716b30', '2a577425c773', '1222b4306c01', 'a7a03dcb5485', '7ae0eb4bda2c', '7e72cf2b43bf', '65fcbb5ef4c7', 'eda294658a0a', '77c7c3714f08', 'b73efafa7477', '55eef661b175', '644a62eaaf2b', 'e283ea6e3f7b', 'cfbf75947d43', 'af587261a215', '55b07829e888', '333c1d618ae3', 'cd4b698ac682', '88c95fb9fb14', 'db20b95a3ab9', '303b72a38e29', '91170b600f70', '0c54942878fa', 'ef7f5d12b1ff', '8a6e6fb756da', '5d0731972927', '8047c43b1cb2', '214866956ea3', 'a977353c25d6', '2af27d65509c', '359bb86fa14f', 'fc6def641612', 'ed6a92a9410c', '3cf35a0393b8', 'eba1f93e5a11', 'e95c2881d1dc', '91ba77e94fd3', 'b2e28a0849fb', '212fc627af24', 'ccb2255e294d', '66bc46f89c87', 'e65fc78aa66a', '51a2ad418b22', '27661a87f456', '73d99bec414b', 'f38f2f72a1b7', '0acd70e887b3', '2ad1b19b87df', 'bb7e7fae1cf4', '8d60ccc783c1', 'e93185008c33', '7fc91238e6f8', 'a88bead7ca59', '0067d5ad2250', '465022519f3f', '9ba29448632b', 'ad4cabec2278', 'a65fdd745f6f', '3879b8c84baf', 'd3bab0895723', '5232ba7fa001', '602d24899028', '55cab2c9c13a', '939c99c1e09a', '0c3086bd8efb', 'e3c41ad419a2', '3378fe495259', '61409556c001', 'b9026c35238c', '2a4cc81cc5d6', '8f4c08f55c0f', 'c956a02b5d22', 'c72da07dc0ee', '4ca084aec87b', 'a3926b1211d3', '7e97ecdac5d2', '92394add7fb2', '84d81e7b03c1']\n"
     ]
    }
   ],
   "source": [
    "print(val_img_ids)"
   ]
  },
  {
   "cell_type": "code",
   "execution_count": 14,
   "id": "73707d01",
   "metadata": {
    "scrolled": true
   },
   "outputs": [
    {
     "name": "stderr",
     "output_type": "stream",
     "text": [
      "Ultralytics YOLOv8.0.121 🚀 Python-3.10.11 torch-2.0.1+cu117 CPU\n"
     ]
    },
    {
     "name": "stdout",
     "output_type": "stream",
     "text": [
      "00d75ad65de3\n"
     ]
    },
    {
     "name": "stderr",
     "output_type": "stream",
     "text": [
      "\u001b[34m\u001b[1mval: \u001b[0mScanning /home/ec2-user/hubmap-hacking-the-human-vasculature/project_yolo/data/test_splits/wsi_location/00d75ad65de3/labels.cache... 1 images, 0 bac\u001b[0m\n",
      "                 Class     Images  Instances      Box(P          R      mAP50  mAP50-95)     Mask(P          R      mAP50  mAP50-95): 100%|██████████| 1/\n",
      "                   all          1          3      0.413          1      0.696      0.579      0.413          1      0.696      0.577\n",
      "          blood vessel          1          3      0.413          1      0.696      0.579      0.413          1      0.696      0.577\n",
      "Speed: 0.4ms preprocess, 153.2ms inference, 0.0ms loss, 1.1ms postprocess per image\n",
      "Results saved to \u001b[1mruns/segment/val10\u001b[0m\n",
      "Ultralytics YOLOv8.0.121 🚀 Python-3.10.11 torch-2.0.1+cu117 CPU\n"
     ]
    },
    {
     "name": "stdout",
     "output_type": "stream",
     "text": [
      "15e5df255b86\n"
     ]
    },
    {
     "name": "stderr",
     "output_type": "stream",
     "text": [
      "\u001b[34m\u001b[1mval: \u001b[0mScanning /home/ec2-user/hubmap-hacking-the-human-vasculature/project_yolo/data/test_splits/wsi_location/15e5df255b86/labels.cache... 1 images, 0 bac\u001b[0m\n",
      "                 Class     Images  Instances      Box(P          R      mAP50  mAP50-95)     Mask(P          R      mAP50  mAP50-95): 100%|██████████| 1/\n",
      "                   all          1          4      0.735          1      0.945      0.677      0.735          1      0.945       0.62\n",
      "          blood vessel          1          4      0.735          1      0.945      0.677      0.735          1      0.945       0.62\n",
      "Speed: 0.4ms preprocess, 168.0ms inference, 0.0ms loss, 1.5ms postprocess per image\n",
      "Results saved to \u001b[1mruns/segment/val11\u001b[0m\n",
      "Ultralytics YOLOv8.0.121 🚀 Python-3.10.11 torch-2.0.1+cu117 CPU\n"
     ]
    },
    {
     "name": "stdout",
     "output_type": "stream",
     "text": [
      "9afac4fc65ef\n"
     ]
    },
    {
     "name": "stderr",
     "output_type": "stream",
     "text": [
      "\u001b[34m\u001b[1mval: \u001b[0mScanning /home/ec2-user/hubmap-hacking-the-human-vasculature/project_yolo/data/test_splits/wsi_location/9afac4fc65ef/labels.cache... 1 images, 0 bac\u001b[0m\n",
      "                 Class     Images  Instances      Box(P          R      mAP50  mAP50-95)     Mask(P          R      mAP50  mAP50-95): 100%|██████████| 1/\n",
      "                   all          1          6      0.988          1      0.995      0.719      0.988          1      0.995      0.558\n",
      "          blood vessel          1          6      0.988          1      0.995      0.719      0.988          1      0.995      0.558\n",
      "Speed: 0.4ms preprocess, 154.5ms inference, 0.0ms loss, 1.0ms postprocess per image\n",
      "Results saved to \u001b[1mruns/segment/val12\u001b[0m\n",
      "Ultralytics YOLOv8.0.121 🚀 Python-3.10.11 torch-2.0.1+cu117 CPU\n"
     ]
    },
    {
     "name": "stdout",
     "output_type": "stream",
     "text": [
      "00656c6f2690\n"
     ]
    },
    {
     "name": "stderr",
     "output_type": "stream",
     "text": [
      "\u001b[34m\u001b[1mval: \u001b[0mScanning /home/ec2-user/hubmap-hacking-the-human-vasculature/project_yolo/data/test_splits/wsi_location/00656c6f2690/labels.cache... 1 images, 0 bac\u001b[0m\n",
      "                 Class     Images  Instances      Box(P          R      mAP50  mAP50-95)     Mask(P          R      mAP50  mAP50-95): 100%|██████████| 1/\n",
      "                   all          1          9      0.875      0.776      0.861      0.613      0.875      0.776      0.861      0.575\n",
      "          blood vessel          1          9      0.875      0.776      0.861      0.613      0.875      0.776      0.861      0.575\n",
      "Speed: 0.4ms preprocess, 151.6ms inference, 0.0ms loss, 1.0ms postprocess per image\n",
      "Results saved to \u001b[1mruns/segment/val13\u001b[0m\n",
      "Ultralytics YOLOv8.0.121 🚀 Python-3.10.11 torch-2.0.1+cu117 CPU\n"
     ]
    },
    {
     "name": "stdout",
     "output_type": "stream",
     "text": [
      "0e0836cf1824\n"
     ]
    },
    {
     "name": "stderr",
     "output_type": "stream",
     "text": [
      "\u001b[34m\u001b[1mval: \u001b[0mScanning /home/ec2-user/hubmap-hacking-the-human-vasculature/project_yolo/data/test_splits/wsi_location/0e0836cf1824/labels.cache... 1 images, 0 bac\u001b[0m\n",
      "                 Class     Images  Instances      Box(P          R      mAP50  mAP50-95)     Mask(P          R      mAP50  mAP50-95): 100%|██████████| 1/\n",
      "                   all          1          2      0.565          1      0.828      0.431      0.565          1      0.828      0.269\n",
      "          blood vessel          1          2      0.565          1      0.828      0.431      0.565          1      0.828      0.269\n",
      "Speed: 0.4ms preprocess, 155.6ms inference, 0.0ms loss, 1.4ms postprocess per image\n",
      "Results saved to \u001b[1mruns/segment/val14\u001b[0m\n",
      "Ultralytics YOLOv8.0.121 🚀 Python-3.10.11 torch-2.0.1+cu117 CPU\n"
     ]
    },
    {
     "name": "stdout",
     "output_type": "stream",
     "text": [
      "e63d156bc72f\n"
     ]
    },
    {
     "name": "stderr",
     "output_type": "stream",
     "text": [
      "\u001b[34m\u001b[1mval: \u001b[0mScanning /home/ec2-user/hubmap-hacking-the-human-vasculature/project_yolo/data/test_splits/wsi_location/e63d156bc72f/labels.cache... 1 images, 0 bac\u001b[0m\n",
      "                 Class     Images  Instances      Box(P          R      mAP50  mAP50-95)     Mask(P          R      mAP50  mAP50-95): 100%|██████████| 1/\n",
      "                   all          1          3      0.945          1      0.995      0.406      0.945          1      0.995      0.547\n",
      "          blood vessel          1          3      0.945          1      0.995      0.406      0.945          1      0.995      0.547\n",
      "Speed: 0.4ms preprocess, 151.8ms inference, 0.0ms loss, 1.3ms postprocess per image\n",
      "Results saved to \u001b[1mruns/segment/val15\u001b[0m\n",
      "Ultralytics YOLOv8.0.121 🚀 Python-3.10.11 torch-2.0.1+cu117 CPU\n"
     ]
    },
    {
     "name": "stdout",
     "output_type": "stream",
     "text": [
      "0a10b8716b30\n"
     ]
    },
    {
     "name": "stderr",
     "output_type": "stream",
     "text": [
      "\u001b[34m\u001b[1mval: \u001b[0mScanning /home/ec2-user/hubmap-hacking-the-human-vasculature/project_yolo/data/test_splits/wsi_location/0a10b8716b30/labels... 1 images, 0 backgroun\u001b[0m\n",
      "\u001b[34m\u001b[1mval: \u001b[0mNew cache created: /home/ec2-user/hubmap-hacking-the-human-vasculature/project_yolo/data/test_splits/wsi_location/0a10b8716b30/labels.cache\n",
      "                 Class     Images  Instances      Box(P          R      mAP50  mAP50-95)     Mask(P          R      mAP50  mAP50-95): 100%|██████████| 1/\n",
      "                   all          1          4      0.943       0.75       0.87      0.373      0.943       0.75       0.87      0.412\n",
      "          blood vessel          1          4      0.943       0.75       0.87      0.373      0.943       0.75       0.87      0.412\n",
      "Speed: 0.4ms preprocess, 155.4ms inference, 0.0ms loss, 1.3ms postprocess per image\n",
      "Results saved to \u001b[1mruns/segment/val16\u001b[0m\n",
      "Ultralytics YOLOv8.0.121 🚀 Python-3.10.11 torch-2.0.1+cu117 CPU\n"
     ]
    },
    {
     "name": "stdout",
     "output_type": "stream",
     "text": [
      "2a577425c773\n"
     ]
    },
    {
     "name": "stderr",
     "output_type": "stream",
     "text": [
      "\u001b[34m\u001b[1mval: \u001b[0mScanning /home/ec2-user/hubmap-hacking-the-human-vasculature/project_yolo/data/test_splits/wsi_location/2a577425c773/labels... 1 images, 0 backgroun\u001b[0m\n",
      "\u001b[34m\u001b[1mval: \u001b[0mNew cache created: /home/ec2-user/hubmap-hacking-the-human-vasculature/project_yolo/data/test_splits/wsi_location/2a577425c773/labels.cache\n",
      "                 Class     Images  Instances      Box(P          R      mAP50  mAP50-95)     Mask(P          R      mAP50  mAP50-95): 100%|██████████| 1/\n",
      "                   all          1          8          1      0.731      0.867      0.516          1      0.731      0.825      0.446\n",
      "          blood vessel          1          8          1      0.731      0.867      0.516          1      0.731      0.825      0.446\n",
      "Speed: 0.4ms preprocess, 153.0ms inference, 0.0ms loss, 1.2ms postprocess per image\n",
      "Results saved to \u001b[1mruns/segment/val17\u001b[0m\n",
      "Ultralytics YOLOv8.0.121 🚀 Python-3.10.11 torch-2.0.1+cu117 CPU\n"
     ]
    },
    {
     "name": "stdout",
     "output_type": "stream",
     "text": [
      "1222b4306c01\n"
     ]
    },
    {
     "name": "stderr",
     "output_type": "stream",
     "text": [
      "\u001b[34m\u001b[1mval: \u001b[0mScanning /home/ec2-user/hubmap-hacking-the-human-vasculature/project_yolo/data/test_splits/wsi_location/1222b4306c01/labels... 1 images, 0 backgroun\u001b[0m\n",
      "\u001b[34m\u001b[1mval: \u001b[0mNew cache created: /home/ec2-user/hubmap-hacking-the-human-vasculature/project_yolo/data/test_splits/wsi_location/1222b4306c01/labels.cache\n",
      "                 Class     Images  Instances      Box(P          R      mAP50  mAP50-95)     Mask(P          R      mAP50  mAP50-95): 100%|██████████| 1/\n",
      "                   all          1          3      0.741      0.964      0.913      0.583      0.741      0.964      0.913      0.616\n",
      "          blood vessel          1          3      0.741      0.964      0.913      0.583      0.741      0.964      0.913      0.616\n",
      "Speed: 0.4ms preprocess, 154.4ms inference, 0.0ms loss, 1.5ms postprocess per image\n",
      "Results saved to \u001b[1mruns/segment/val18\u001b[0m\n",
      "Ultralytics YOLOv8.0.121 🚀 Python-3.10.11 torch-2.0.1+cu117 CPU\n"
     ]
    },
    {
     "name": "stdout",
     "output_type": "stream",
     "text": [
      "a7a03dcb5485\n"
     ]
    },
    {
     "name": "stderr",
     "output_type": "stream",
     "text": [
      "\u001b[34m\u001b[1mval: \u001b[0mScanning /home/ec2-user/hubmap-hacking-the-human-vasculature/project_yolo/data/test_splits/wsi_location/a7a03dcb5485/labels... 1 images, 0 backgroun\u001b[0m\n",
      "\u001b[34m\u001b[1mval: \u001b[0mNew cache created: /home/ec2-user/hubmap-hacking-the-human-vasculature/project_yolo/data/test_splits/wsi_location/a7a03dcb5485/labels.cache\n",
      "                 Class     Images  Instances      Box(P          R      mAP50  mAP50-95)     Mask(P          R      mAP50  mAP50-95): 100%|██████████| 1/\n",
      "                   all          1          3      0.324      0.667      0.377      0.249      0.324      0.667      0.377       0.25\n",
      "          blood vessel          1          3      0.324      0.667      0.377      0.249      0.324      0.667      0.377       0.25\n",
      "Speed: 0.4ms preprocess, 158.0ms inference, 0.0ms loss, 1.2ms postprocess per image\n",
      "Results saved to \u001b[1mruns/segment/val19\u001b[0m\n",
      "Ultralytics YOLOv8.0.121 🚀 Python-3.10.11 torch-2.0.1+cu117 CPU\n"
     ]
    },
    {
     "name": "stdout",
     "output_type": "stream",
     "text": [
      "7ae0eb4bda2c\n"
     ]
    },
    {
     "name": "stderr",
     "output_type": "stream",
     "text": [
      "\u001b[34m\u001b[1mval: \u001b[0mScanning /home/ec2-user/hubmap-hacking-the-human-vasculature/project_yolo/data/test_splits/wsi_location/7ae0eb4bda2c/labels... 1 images, 0 backgroun\u001b[0m\n",
      "\u001b[34m\u001b[1mval: \u001b[0mNew cache created: /home/ec2-user/hubmap-hacking-the-human-vasculature/project_yolo/data/test_splits/wsi_location/7ae0eb4bda2c/labels.cache\n",
      "                 Class     Images  Instances      Box(P          R      mAP50  mAP50-95)     Mask(P          R      mAP50  mAP50-95): 100%|██████████| 1/\n",
      "                   all          1          4       0.98          1      0.995      0.573       0.98          1      0.995      0.585\n",
      "          blood vessel          1          4       0.98          1      0.995      0.573       0.98          1      0.995      0.585\n",
      "Speed: 0.4ms preprocess, 154.2ms inference, 0.0ms loss, 1.3ms postprocess per image\n",
      "Results saved to \u001b[1mruns/segment/val20\u001b[0m\n",
      "Ultralytics YOLOv8.0.121 🚀 Python-3.10.11 torch-2.0.1+cu117 CPU\n"
     ]
    },
    {
     "name": "stdout",
     "output_type": "stream",
     "text": [
      "7e72cf2b43bf\n"
     ]
    },
    {
     "name": "stderr",
     "output_type": "stream",
     "text": [
      "\u001b[34m\u001b[1mval: \u001b[0mScanning /home/ec2-user/hubmap-hacking-the-human-vasculature/project_yolo/data/test_splits/wsi_location/7e72cf2b43bf/labels... 1 images, 0 backgroun\u001b[0m\n",
      "\u001b[34m\u001b[1mval: \u001b[0mNew cache created: /home/ec2-user/hubmap-hacking-the-human-vasculature/project_yolo/data/test_splits/wsi_location/7e72cf2b43bf/labels.cache\n",
      "                 Class     Images  Instances      Box(P          R      mAP50  mAP50-95)     Mask(P          R      mAP50  mAP50-95): 100%|██████████| 1/\n",
      "                   all          1          3      0.975          1      0.995      0.569      0.975          1      0.995      0.536\n",
      "          blood vessel          1          3      0.975          1      0.995      0.569      0.975          1      0.995      0.536\n",
      "Speed: 0.4ms preprocess, 157.0ms inference, 0.0ms loss, 1.3ms postprocess per image\n",
      "Results saved to \u001b[1mruns/segment/val21\u001b[0m\n",
      "Ultralytics YOLOv8.0.121 🚀 Python-3.10.11 torch-2.0.1+cu117 CPU\n"
     ]
    },
    {
     "name": "stdout",
     "output_type": "stream",
     "text": [
      "65fcbb5ef4c7\n"
     ]
    },
    {
     "name": "stderr",
     "output_type": "stream",
     "text": [
      "\u001b[34m\u001b[1mval: \u001b[0mScanning /home/ec2-user/hubmap-hacking-the-human-vasculature/project_yolo/data/test_splits/wsi_location/65fcbb5ef4c7/labels... 1 images, 0 backgroun\u001b[0m\n",
      "\u001b[34m\u001b[1mval: \u001b[0mNew cache created: /home/ec2-user/hubmap-hacking-the-human-vasculature/project_yolo/data/test_splits/wsi_location/65fcbb5ef4c7/labels.cache\n",
      "                 Class     Images  Instances      Box(P          R      mAP50  mAP50-95)     Mask(P          R      mAP50  mAP50-95): 100%|██████████| 1/\n",
      "                   all          1          4      0.748       0.75      0.793        0.7      0.748       0.75      0.793      0.356\n",
      "          blood vessel          1          4      0.748       0.75      0.793        0.7      0.748       0.75      0.793      0.356\n",
      "Speed: 0.4ms preprocess, 153.5ms inference, 0.0ms loss, 1.1ms postprocess per image\n",
      "Results saved to \u001b[1mruns/segment/val22\u001b[0m\n",
      "Ultralytics YOLOv8.0.121 🚀 Python-3.10.11 torch-2.0.1+cu117 CPU\n"
     ]
    },
    {
     "name": "stdout",
     "output_type": "stream",
     "text": [
      "eda294658a0a\n"
     ]
    },
    {
     "name": "stderr",
     "output_type": "stream",
     "text": [
      "\u001b[34m\u001b[1mval: \u001b[0mScanning /home/ec2-user/hubmap-hacking-the-human-vasculature/project_yolo/data/test_splits/wsi_location/eda294658a0a/labels... 1 images, 0 backgroun\u001b[0m\n",
      "\u001b[34m\u001b[1mval: \u001b[0mNew cache created: /home/ec2-user/hubmap-hacking-the-human-vasculature/project_yolo/data/test_splits/wsi_location/eda294658a0a/labels.cache\n",
      "                 Class     Images  Instances      Box(P          R      mAP50  mAP50-95)     Mask(P          R      mAP50  mAP50-95): 100%|██████████| 1/\n",
      "                   all          1          8      0.816      0.625      0.778      0.503      0.986       0.75      0.926       0.53\n",
      "          blood vessel          1          8      0.816      0.625      0.778      0.503      0.986       0.75      0.926       0.53\n",
      "Speed: 0.4ms preprocess, 155.5ms inference, 0.0ms loss, 1.2ms postprocess per image\n",
      "Results saved to \u001b[1mruns/segment/val23\u001b[0m\n",
      "Ultralytics YOLOv8.0.121 🚀 Python-3.10.11 torch-2.0.1+cu117 CPU\n"
     ]
    },
    {
     "name": "stdout",
     "output_type": "stream",
     "text": [
      "77c7c3714f08\n"
     ]
    },
    {
     "name": "stderr",
     "output_type": "stream",
     "text": [
      "\u001b[34m\u001b[1mval: \u001b[0mScanning /home/ec2-user/hubmap-hacking-the-human-vasculature/project_yolo/data/test_splits/wsi_location/77c7c3714f08/labels... 1 images, 0 backgroun\u001b[0m\n",
      "\u001b[34m\u001b[1mval: \u001b[0mNew cache created: /home/ec2-user/hubmap-hacking-the-human-vasculature/project_yolo/data/test_splits/wsi_location/77c7c3714f08/labels.cache\n",
      "                 Class     Images  Instances      Box(P          R      mAP50  mAP50-95)     Mask(P          R      mAP50  mAP50-95): 100%|██████████| 1/\n",
      "                   all          1          8      0.832      0.618      0.746      0.424          1      0.739      0.778      0.443\n",
      "          blood vessel          1          8      0.832      0.618      0.746      0.424          1      0.739      0.778      0.443\n",
      "Speed: 0.4ms preprocess, 160.3ms inference, 0.0ms loss, 1.3ms postprocess per image\n",
      "Results saved to \u001b[1mruns/segment/val24\u001b[0m\n",
      "Ultralytics YOLOv8.0.121 🚀 Python-3.10.11 torch-2.0.1+cu117 CPU\n"
     ]
    },
    {
     "name": "stdout",
     "output_type": "stream",
     "text": [
      "b73efafa7477\n"
     ]
    },
    {
     "name": "stderr",
     "output_type": "stream",
     "text": [
      "\u001b[34m\u001b[1mval: \u001b[0mScanning /home/ec2-user/hubmap-hacking-the-human-vasculature/project_yolo/data/test_splits/wsi_location/b73efafa7477/labels... 1 images, 0 backgroun\u001b[0m\n",
      "\u001b[34m\u001b[1mval: \u001b[0mNew cache created: /home/ec2-user/hubmap-hacking-the-human-vasculature/project_yolo/data/test_splits/wsi_location/b73efafa7477/labels.cache\n",
      "                 Class     Images  Instances      Box(P          R      mAP50  mAP50-95)     Mask(P          R      mAP50  mAP50-95): 100%|██████████| 1/\n",
      "                   all          1          3      0.643      0.618      0.617      0.366      0.643      0.618      0.617      0.392\n",
      "          blood vessel          1          3      0.643      0.618      0.617      0.366      0.643      0.618      0.617      0.392\n",
      "Speed: 3.1ms preprocess, 163.7ms inference, 0.0ms loss, 1.8ms postprocess per image\n",
      "Results saved to \u001b[1mruns/segment/val25\u001b[0m\n",
      "Ultralytics YOLOv8.0.121 🚀 Python-3.10.11 torch-2.0.1+cu117 CPU\n"
     ]
    },
    {
     "name": "stdout",
     "output_type": "stream",
     "text": [
      "55eef661b175\n"
     ]
    },
    {
     "name": "stderr",
     "output_type": "stream",
     "text": [
      "\u001b[34m\u001b[1mval: \u001b[0mScanning /home/ec2-user/hubmap-hacking-the-human-vasculature/project_yolo/data/test_splits/wsi_location/55eef661b175/labels... 1 images, 0 backgroun\u001b[0m\n",
      "\u001b[34m\u001b[1mval: \u001b[0mNew cache created: /home/ec2-user/hubmap-hacking-the-human-vasculature/project_yolo/data/test_splits/wsi_location/55eef661b175/labels.cache\n",
      "                 Class     Images  Instances      Box(P          R      mAP50  mAP50-95)     Mask(P          R      mAP50  mAP50-95): 100%|██████████| 1/\n",
      "                   all          1          3      0.735          1      0.913      0.649      0.735          1      0.913      0.649\n",
      "          blood vessel          1          3      0.735          1      0.913      0.649      0.735          1      0.913      0.649\n",
      "Speed: 0.4ms preprocess, 155.7ms inference, 0.0ms loss, 1.1ms postprocess per image\n",
      "Results saved to \u001b[1mruns/segment/val26\u001b[0m\n",
      "Ultralytics YOLOv8.0.121 🚀 Python-3.10.11 torch-2.0.1+cu117 CPU\n"
     ]
    },
    {
     "name": "stdout",
     "output_type": "stream",
     "text": [
      "644a62eaaf2b\n"
     ]
    },
    {
     "name": "stderr",
     "output_type": "stream",
     "text": [
      "\u001b[34m\u001b[1mval: \u001b[0mScanning /home/ec2-user/hubmap-hacking-the-human-vasculature/project_yolo/data/test_splits/wsi_location/644a62eaaf2b/labels... 1 images, 0 backgroun\u001b[0m\n",
      "\u001b[34m\u001b[1mval: \u001b[0mNew cache created: /home/ec2-user/hubmap-hacking-the-human-vasculature/project_yolo/data/test_splits/wsi_location/644a62eaaf2b/labels.cache\n",
      "                 Class     Images  Instances      Box(P          R      mAP50  mAP50-95)     Mask(P          R      mAP50  mAP50-95): 100%|██████████| 1/\n",
      "                   all          1          3      0.978      0.667      0.666      0.468      0.978      0.667      0.666      0.468\n",
      "          blood vessel          1          3      0.978      0.667      0.666      0.468      0.978      0.667      0.666      0.468\n",
      "Speed: 0.4ms preprocess, 160.2ms inference, 0.0ms loss, 1.6ms postprocess per image\n",
      "Results saved to \u001b[1mruns/segment/val27\u001b[0m\n",
      "Ultralytics YOLOv8.0.121 🚀 Python-3.10.11 torch-2.0.1+cu117 CPU\n"
     ]
    },
    {
     "name": "stdout",
     "output_type": "stream",
     "text": [
      "e283ea6e3f7b\n"
     ]
    },
    {
     "name": "stderr",
     "output_type": "stream",
     "text": [
      "\u001b[34m\u001b[1mval: \u001b[0mScanning /home/ec2-user/hubmap-hacking-the-human-vasculature/project_yolo/data/test_splits/wsi_location/e283ea6e3f7b/labels... 1 images, 0 backgroun\u001b[0m\n",
      "\u001b[34m\u001b[1mval: \u001b[0mNew cache created: /home/ec2-user/hubmap-hacking-the-human-vasculature/project_yolo/data/test_splits/wsi_location/e283ea6e3f7b/labels.cache\n",
      "                 Class     Images  Instances      Box(P          R      mAP50  mAP50-95)     Mask(P          R      mAP50  mAP50-95): 100%|██████████| 1/\n",
      "                   all          1          3      0.711          1      0.913      0.541      0.711          1      0.913      0.474\n",
      "          blood vessel          1          3      0.711          1      0.913      0.541      0.711          1      0.913      0.474\n",
      "Speed: 0.4ms preprocess, 153.1ms inference, 0.0ms loss, 1.1ms postprocess per image\n",
      "Results saved to \u001b[1mruns/segment/val28\u001b[0m\n",
      "Ultralytics YOLOv8.0.121 🚀 Python-3.10.11 torch-2.0.1+cu117 CPU\n"
     ]
    },
    {
     "name": "stdout",
     "output_type": "stream",
     "text": [
      "cfbf75947d43\n"
     ]
    },
    {
     "name": "stderr",
     "output_type": "stream",
     "text": [
      "\u001b[34m\u001b[1mval: \u001b[0mScanning /home/ec2-user/hubmap-hacking-the-human-vasculature/project_yolo/data/test_splits/wsi_location/cfbf75947d43/labels... 1 images, 0 backgroun\u001b[0m\n",
      "\u001b[34m\u001b[1mval: \u001b[0mNew cache created: /home/ec2-user/hubmap-hacking-the-human-vasculature/project_yolo/data/test_splits/wsi_location/cfbf75947d43/labels.cache\n",
      "                 Class     Images  Instances      Box(P          R      mAP50  mAP50-95)     Mask(P          R      mAP50  mAP50-95): 100%|██████████| 1/\n",
      "                   all          1          5          1      0.779      0.962      0.647          1      0.779      0.851      0.644\n",
      "          blood vessel          1          5          1      0.779      0.962      0.647          1      0.779      0.851      0.644\n",
      "Speed: 0.4ms preprocess, 159.8ms inference, 0.0ms loss, 1.4ms postprocess per image\n",
      "Results saved to \u001b[1mruns/segment/val29\u001b[0m\n",
      "Ultralytics YOLOv8.0.121 🚀 Python-3.10.11 torch-2.0.1+cu117 CPU\n"
     ]
    },
    {
     "name": "stdout",
     "output_type": "stream",
     "text": [
      "af587261a215\n"
     ]
    },
    {
     "name": "stderr",
     "output_type": "stream",
     "text": [
      "\u001b[34m\u001b[1mval: \u001b[0mScanning /home/ec2-user/hubmap-hacking-the-human-vasculature/project_yolo/data/test_splits/wsi_location/af587261a215/labels... 1 images, 0 backgroun\u001b[0m\n",
      "\u001b[34m\u001b[1mval: \u001b[0mNew cache created: /home/ec2-user/hubmap-hacking-the-human-vasculature/project_yolo/data/test_splits/wsi_location/af587261a215/labels.cache\n",
      "                 Class     Images  Instances      Box(P          R      mAP50  mAP50-95)     Mask(P          R      mAP50  mAP50-95): 100%|██████████| 1/\n",
      "                   all          1          5      0.436        0.8      0.573      0.425      0.436        0.8      0.573      0.377\n",
      "          blood vessel          1          5      0.436        0.8      0.573      0.425      0.436        0.8      0.573      0.377\n",
      "Speed: 0.4ms preprocess, 152.6ms inference, 0.0ms loss, 1.3ms postprocess per image\n",
      "Results saved to \u001b[1mruns/segment/val30\u001b[0m\n",
      "Ultralytics YOLOv8.0.121 🚀 Python-3.10.11 torch-2.0.1+cu117 CPU\n"
     ]
    },
    {
     "name": "stdout",
     "output_type": "stream",
     "text": [
      "55b07829e888\n"
     ]
    },
    {
     "name": "stderr",
     "output_type": "stream",
     "text": [
      "\u001b[34m\u001b[1mval: \u001b[0mScanning /home/ec2-user/hubmap-hacking-the-human-vasculature/project_yolo/data/test_splits/wsi_location/55b07829e888/labels... 1 images, 0 backgroun\u001b[0m\n",
      "\u001b[34m\u001b[1mval: \u001b[0mNew cache created: /home/ec2-user/hubmap-hacking-the-human-vasculature/project_yolo/data/test_splits/wsi_location/55b07829e888/labels.cache\n",
      "                 Class     Images  Instances      Box(P          R      mAP50  mAP50-95)     Mask(P          R      mAP50  mAP50-95): 100%|██████████| 1/\n",
      "                   all          1          6      0.745      0.974      0.879      0.692      0.745      0.974      0.879      0.625\n",
      "          blood vessel          1          6      0.745      0.974      0.879      0.692      0.745      0.974      0.879      0.625\n",
      "Speed: 0.4ms preprocess, 157.7ms inference, 0.0ms loss, 1.1ms postprocess per image\n",
      "Results saved to \u001b[1mruns/segment/val31\u001b[0m\n",
      "Ultralytics YOLOv8.0.121 🚀 Python-3.10.11 torch-2.0.1+cu117 CPU\n"
     ]
    },
    {
     "name": "stdout",
     "output_type": "stream",
     "text": [
      "333c1d618ae3\n"
     ]
    },
    {
     "name": "stderr",
     "output_type": "stream",
     "text": [
      "\u001b[34m\u001b[1mval: \u001b[0mScanning /home/ec2-user/hubmap-hacking-the-human-vasculature/project_yolo/data/test_splits/wsi_location/333c1d618ae3/labels... 1 images, 0 backgroun\u001b[0m\n",
      "\u001b[34m\u001b[1mval: \u001b[0mNew cache created: /home/ec2-user/hubmap-hacking-the-human-vasculature/project_yolo/data/test_splits/wsi_location/333c1d618ae3/labels.cache\n",
      "                 Class     Images  Instances      Box(P          R      mAP50  mAP50-95)     Mask(P          R      mAP50  mAP50-95): 100%|██████████| 1/\n",
      "                   all          1          4      0.956          1      0.995      0.687      0.956          1      0.995      0.667\n",
      "          blood vessel          1          4      0.956          1      0.995      0.687      0.956          1      0.995      0.667\n",
      "Speed: 0.4ms preprocess, 161.3ms inference, 0.0ms loss, 1.1ms postprocess per image\n",
      "Results saved to \u001b[1mruns/segment/val32\u001b[0m\n",
      "Ultralytics YOLOv8.0.121 🚀 Python-3.10.11 torch-2.0.1+cu117 CPU\n"
     ]
    },
    {
     "name": "stdout",
     "output_type": "stream",
     "text": [
      "cd4b698ac682\n"
     ]
    },
    {
     "name": "stderr",
     "output_type": "stream",
     "text": [
      "\u001b[34m\u001b[1mval: \u001b[0mScanning /home/ec2-user/hubmap-hacking-the-human-vasculature/project_yolo/data/test_splits/wsi_location/cd4b698ac682/labels... 1 images, 0 backgroun\u001b[0m\n",
      "\u001b[34m\u001b[1mval: \u001b[0mNew cache created: /home/ec2-user/hubmap-hacking-the-human-vasculature/project_yolo/data/test_splits/wsi_location/cd4b698ac682/labels.cache\n",
      "                 Class     Images  Instances      Box(P          R      mAP50  mAP50-95)     Mask(P          R      mAP50  mAP50-95): 100%|██████████| 1/\n",
      "                   all          1          7      0.684          1      0.913      0.636      0.684          1      0.913       0.57\n",
      "          blood vessel          1          7      0.684          1      0.913      0.636      0.684          1      0.913       0.57\n",
      "Speed: 0.4ms preprocess, 158.0ms inference, 0.0ms loss, 1.2ms postprocess per image\n",
      "Results saved to \u001b[1mruns/segment/val33\u001b[0m\n",
      "Ultralytics YOLOv8.0.121 🚀 Python-3.10.11 torch-2.0.1+cu117 CPU\n"
     ]
    },
    {
     "name": "stdout",
     "output_type": "stream",
     "text": [
      "88c95fb9fb14\n"
     ]
    },
    {
     "name": "stderr",
     "output_type": "stream",
     "text": [
      "\u001b[34m\u001b[1mval: \u001b[0mScanning /home/ec2-user/hubmap-hacking-the-human-vasculature/project_yolo/data/test_splits/wsi_location/88c95fb9fb14/labels... 1 images, 0 backgroun\u001b[0m\n",
      "\u001b[34m\u001b[1mval: \u001b[0mNew cache created: /home/ec2-user/hubmap-hacking-the-human-vasculature/project_yolo/data/test_splits/wsi_location/88c95fb9fb14/labels.cache\n",
      "                 Class     Images  Instances      Box(P          R      mAP50  mAP50-95)     Mask(P          R      mAP50  mAP50-95): 100%|██████████| 1/\n",
      "                   all          1          3      0.484      0.333      0.432      0.298      0.486      0.667      0.641      0.304\n",
      "          blood vessel          1          3      0.484      0.333      0.432      0.298      0.486      0.667      0.641      0.304\n",
      "Speed: 0.4ms preprocess, 174.5ms inference, 0.0ms loss, 1.1ms postprocess per image\n",
      "Results saved to \u001b[1mruns/segment/val34\u001b[0m\n",
      "Ultralytics YOLOv8.0.121 🚀 Python-3.10.11 torch-2.0.1+cu117 CPU\n"
     ]
    },
    {
     "name": "stdout",
     "output_type": "stream",
     "text": [
      "db20b95a3ab9\n"
     ]
    },
    {
     "name": "stderr",
     "output_type": "stream",
     "text": [
      "\u001b[34m\u001b[1mval: \u001b[0mScanning /home/ec2-user/hubmap-hacking-the-human-vasculature/project_yolo/data/test_splits/wsi_location/db20b95a3ab9/labels... 1 images, 0 backgroun\u001b[0m\n",
      "\u001b[34m\u001b[1mval: \u001b[0mNew cache created: /home/ec2-user/hubmap-hacking-the-human-vasculature/project_yolo/data/test_splits/wsi_location/db20b95a3ab9/labels.cache\n",
      "                 Class     Images  Instances      Box(P          R      mAP50  mAP50-95)     Mask(P          R      mAP50  mAP50-95): 100%|██████████| 1/\n",
      "                   all          1          6      0.855          1      0.948      0.734      0.855          1      0.948      0.685\n",
      "          blood vessel          1          6      0.855          1      0.948      0.734      0.855          1      0.948      0.685\n",
      "Speed: 0.4ms preprocess, 160.3ms inference, 0.0ms loss, 1.2ms postprocess per image\n",
      "Results saved to \u001b[1mruns/segment/val35\u001b[0m\n",
      "Ultralytics YOLOv8.0.121 🚀 Python-3.10.11 torch-2.0.1+cu117 CPU\n"
     ]
    },
    {
     "name": "stdout",
     "output_type": "stream",
     "text": [
      "303b72a38e29\n"
     ]
    },
    {
     "name": "stderr",
     "output_type": "stream",
     "text": [
      "\u001b[34m\u001b[1mval: \u001b[0mScanning /home/ec2-user/hubmap-hacking-the-human-vasculature/project_yolo/data/test_splits/wsi_location/303b72a38e29/labels... 1 images, 0 backgroun\u001b[0m\n",
      "\u001b[34m\u001b[1mval: \u001b[0mNew cache created: /home/ec2-user/hubmap-hacking-the-human-vasculature/project_yolo/data/test_splits/wsi_location/303b72a38e29/labels.cache\n",
      "                 Class     Images  Instances      Box(P          R      mAP50  mAP50-95)     Mask(P          R      mAP50  mAP50-95): 100%|██████████| 1/\n",
      "                   all          1          2      0.945          1      0.995      0.995      0.945          1      0.995      0.895\n",
      "          blood vessel          1          2      0.945          1      0.995      0.995      0.945          1      0.995      0.895\n",
      "Speed: 0.4ms preprocess, 164.0ms inference, 0.0ms loss, 1.5ms postprocess per image\n",
      "Results saved to \u001b[1mruns/segment/val36\u001b[0m\n",
      "Ultralytics YOLOv8.0.121 🚀 Python-3.10.11 torch-2.0.1+cu117 CPU\n"
     ]
    },
    {
     "name": "stdout",
     "output_type": "stream",
     "text": [
      "91170b600f70\n"
     ]
    },
    {
     "name": "stderr",
     "output_type": "stream",
     "text": [
      "\u001b[34m\u001b[1mval: \u001b[0mScanning /home/ec2-user/hubmap-hacking-the-human-vasculature/project_yolo/data/test_splits/wsi_location/91170b600f70/labels... 1 images, 0 backgroun\u001b[0m\n",
      "\u001b[34m\u001b[1mval: \u001b[0mNew cache created: /home/ec2-user/hubmap-hacking-the-human-vasculature/project_yolo/data/test_splits/wsi_location/91170b600f70/labels.cache\n",
      "                 Class     Images  Instances      Box(P          R      mAP50  mAP50-95)     Mask(P          R      mAP50  mAP50-95): 100%|██████████| 1/\n",
      "                   all          1          3      0.972          1      0.995      0.648      0.972          1      0.995      0.511\n",
      "          blood vessel          1          3      0.972          1      0.995      0.648      0.972          1      0.995      0.511\n",
      "Speed: 0.4ms preprocess, 161.4ms inference, 0.0ms loss, 1.1ms postprocess per image\n",
      "Results saved to \u001b[1mruns/segment/val37\u001b[0m\n",
      "Ultralytics YOLOv8.0.121 🚀 Python-3.10.11 torch-2.0.1+cu117 CPU\n"
     ]
    },
    {
     "name": "stdout",
     "output_type": "stream",
     "text": [
      "0c54942878fa\n"
     ]
    },
    {
     "name": "stderr",
     "output_type": "stream",
     "text": [
      "\u001b[34m\u001b[1mval: \u001b[0mScanning /home/ec2-user/hubmap-hacking-the-human-vasculature/project_yolo/data/test_splits/wsi_location/0c54942878fa/labels... 1 images, 0 backgroun\u001b[0m\n",
      "\u001b[34m\u001b[1mval: \u001b[0mNew cache created: /home/ec2-user/hubmap-hacking-the-human-vasculature/project_yolo/data/test_splits/wsi_location/0c54942878fa/labels.cache\n",
      "                 Class     Images  Instances      Box(P          R      mAP50  mAP50-95)     Mask(P          R      mAP50  mAP50-95): 100%|██████████| 1/\n",
      "                   all          1          5      0.939          1      0.995      0.602      0.939          1      0.995       0.59\n",
      "          blood vessel          1          5      0.939          1      0.995      0.602      0.939          1      0.995       0.59\n",
      "Speed: 0.4ms preprocess, 156.7ms inference, 0.0ms loss, 1.0ms postprocess per image\n",
      "Results saved to \u001b[1mruns/segment/val38\u001b[0m\n",
      "Ultralytics YOLOv8.0.121 🚀 Python-3.10.11 torch-2.0.1+cu117 CPU\n"
     ]
    },
    {
     "name": "stdout",
     "output_type": "stream",
     "text": [
      "ef7f5d12b1ff\n"
     ]
    },
    {
     "name": "stderr",
     "output_type": "stream",
     "text": [
      "\u001b[34m\u001b[1mval: \u001b[0mScanning /home/ec2-user/hubmap-hacking-the-human-vasculature/project_yolo/data/test_splits/wsi_location/ef7f5d12b1ff/labels... 1 images, 0 backgroun\u001b[0m\n",
      "\u001b[34m\u001b[1mval: \u001b[0mNew cache created: /home/ec2-user/hubmap-hacking-the-human-vasculature/project_yolo/data/test_splits/wsi_location/ef7f5d12b1ff/labels.cache\n",
      "                 Class     Images  Instances      Box(P          R      mAP50  mAP50-95)     Mask(P          R      mAP50  mAP50-95): 100%|██████████| 1/\n",
      "                   all          1         10      0.872        0.8      0.831      0.571      0.872        0.8        0.8      0.523\n",
      "          blood vessel          1         10      0.872        0.8      0.831      0.571      0.872        0.8        0.8      0.523\n",
      "Speed: 0.7ms preprocess, 166.1ms inference, 0.0ms loss, 1.3ms postprocess per image\n",
      "Results saved to \u001b[1mruns/segment/val39\u001b[0m\n",
      "Ultralytics YOLOv8.0.121 🚀 Python-3.10.11 torch-2.0.1+cu117 CPU\n"
     ]
    },
    {
     "name": "stdout",
     "output_type": "stream",
     "text": [
      "8a6e6fb756da\n"
     ]
    },
    {
     "name": "stderr",
     "output_type": "stream",
     "text": [
      "\u001b[34m\u001b[1mval: \u001b[0mScanning /home/ec2-user/hubmap-hacking-the-human-vasculature/project_yolo/data/test_splits/wsi_location/8a6e6fb756da/labels... 1 images, 0 backgroun\u001b[0m\n",
      "\u001b[34m\u001b[1mval: \u001b[0mNew cache created: /home/ec2-user/hubmap-hacking-the-human-vasculature/project_yolo/data/test_splits/wsi_location/8a6e6fb756da/labels.cache\n",
      "                 Class     Images  Instances      Box(P          R      mAP50  mAP50-95)     Mask(P          R      mAP50  mAP50-95): 100%|██████████| 1/\n",
      "                   all          1          2      0.307        0.5      0.224      0.172      0.307        0.5      0.185      0.102\n",
      "          blood vessel          1          2      0.307        0.5      0.224      0.172      0.307        0.5      0.185      0.102\n",
      "Speed: 0.4ms preprocess, 167.6ms inference, 0.0ms loss, 1.1ms postprocess per image\n",
      "Results saved to \u001b[1mruns/segment/val40\u001b[0m\n",
      "Ultralytics YOLOv8.0.121 🚀 Python-3.10.11 torch-2.0.1+cu117 CPU\n"
     ]
    },
    {
     "name": "stdout",
     "output_type": "stream",
     "text": [
      "5d0731972927\n"
     ]
    },
    {
     "name": "stderr",
     "output_type": "stream",
     "text": [
      "\u001b[34m\u001b[1mval: \u001b[0mScanning /home/ec2-user/hubmap-hacking-the-human-vasculature/project_yolo/data/test_splits/wsi_location/5d0731972927/labels... 1 images, 0 backgroun\u001b[0m\n",
      "\u001b[34m\u001b[1mval: \u001b[0mNew cache created: /home/ec2-user/hubmap-hacking-the-human-vasculature/project_yolo/data/test_splits/wsi_location/5d0731972927/labels.cache\n",
      "                 Class     Images  Instances      Box(P          R      mAP50  mAP50-95)     Mask(P          R      mAP50  mAP50-95): 100%|██████████| 1/\n",
      "                   all          1          7      0.772      0.714      0.756      0.506      0.772      0.714      0.756      0.529\n",
      "          blood vessel          1          7      0.772      0.714      0.756      0.506      0.772      0.714      0.756      0.529\n",
      "Speed: 0.4ms preprocess, 159.3ms inference, 0.0ms loss, 1.5ms postprocess per image\n",
      "Results saved to \u001b[1mruns/segment/val41\u001b[0m\n",
      "Ultralytics YOLOv8.0.121 🚀 Python-3.10.11 torch-2.0.1+cu117 CPU\n"
     ]
    },
    {
     "name": "stdout",
     "output_type": "stream",
     "text": [
      "8047c43b1cb2\n"
     ]
    },
    {
     "name": "stderr",
     "output_type": "stream",
     "text": [
      "\u001b[34m\u001b[1mval: \u001b[0mScanning /home/ec2-user/hubmap-hacking-the-human-vasculature/project_yolo/data/test_splits/wsi_location/8047c43b1cb2/labels... 1 images, 0 backgroun\u001b[0m\n",
      "\u001b[34m\u001b[1mval: \u001b[0mNew cache created: /home/ec2-user/hubmap-hacking-the-human-vasculature/project_yolo/data/test_splits/wsi_location/8047c43b1cb2/labels.cache\n",
      "                 Class     Images  Instances      Box(P          R      mAP50  mAP50-95)     Mask(P          R      mAP50  mAP50-95): 100%|██████████| 1/\n",
      "                   all          1          4      0.874          1      0.995      0.684      0.874          1      0.995      0.647\n",
      "          blood vessel          1          4      0.874          1      0.995      0.684      0.874          1      0.995      0.647\n",
      "Speed: 0.4ms preprocess, 154.6ms inference, 0.0ms loss, 0.9ms postprocess per image\n",
      "Results saved to \u001b[1mruns/segment/val42\u001b[0m\n",
      "Ultralytics YOLOv8.0.121 🚀 Python-3.10.11 torch-2.0.1+cu117 CPU\n"
     ]
    },
    {
     "name": "stdout",
     "output_type": "stream",
     "text": [
      "214866956ea3\n"
     ]
    },
    {
     "name": "stderr",
     "output_type": "stream",
     "text": [
      "\u001b[34m\u001b[1mval: \u001b[0mScanning /home/ec2-user/hubmap-hacking-the-human-vasculature/project_yolo/data/test_splits/wsi_location/214866956ea3/labels... 1 images, 0 backgroun\u001b[0m\n",
      "\u001b[34m\u001b[1mval: \u001b[0mNew cache created: /home/ec2-user/hubmap-hacking-the-human-vasculature/project_yolo/data/test_splits/wsi_location/214866956ea3/labels.cache\n",
      "                 Class     Images  Instances      Box(P          R      mAP50  mAP50-95)     Mask(P          R      mAP50  mAP50-95): 100%|██████████| 1/\n",
      "                   all          1          4          1      0.471      0.613      0.403          1      0.471       0.59      0.369\n",
      "          blood vessel          1          4          1      0.471      0.613      0.403          1      0.471       0.59      0.369\n",
      "Speed: 0.4ms preprocess, 163.6ms inference, 0.0ms loss, 1.5ms postprocess per image\n",
      "Results saved to \u001b[1mruns/segment/val43\u001b[0m\n",
      "Ultralytics YOLOv8.0.121 🚀 Python-3.10.11 torch-2.0.1+cu117 CPU\n"
     ]
    },
    {
     "name": "stdout",
     "output_type": "stream",
     "text": [
      "a977353c25d6\n"
     ]
    },
    {
     "name": "stderr",
     "output_type": "stream",
     "text": [
      "\u001b[34m\u001b[1mval: \u001b[0mScanning /home/ec2-user/hubmap-hacking-the-human-vasculature/project_yolo/data/test_splits/wsi_location/a977353c25d6/labels... 1 images, 0 backgroun\u001b[0m\n",
      "\u001b[34m\u001b[1mval: \u001b[0mNew cache created: /home/ec2-user/hubmap-hacking-the-human-vasculature/project_yolo/data/test_splits/wsi_location/a977353c25d6/labels.cache\n",
      "                 Class     Images  Instances      Box(P          R      mAP50  mAP50-95)     Mask(P          R      mAP50  mAP50-95): 100%|██████████| 1/\n",
      "                   all          1          5      0.656      0.768      0.687      0.507      0.656      0.768      0.687      0.493\n",
      "          blood vessel          1          5      0.656      0.768      0.687      0.507      0.656      0.768      0.687      0.493\n",
      "Speed: 0.4ms preprocess, 155.4ms inference, 0.0ms loss, 1.1ms postprocess per image\n",
      "Results saved to \u001b[1mruns/segment/val44\u001b[0m\n",
      "Ultralytics YOLOv8.0.121 🚀 Python-3.10.11 torch-2.0.1+cu117 CPU\n"
     ]
    },
    {
     "name": "stdout",
     "output_type": "stream",
     "text": [
      "2af27d65509c\n"
     ]
    },
    {
     "name": "stderr",
     "output_type": "stream",
     "text": [
      "\u001b[34m\u001b[1mval: \u001b[0mScanning /home/ec2-user/hubmap-hacking-the-human-vasculature/project_yolo/data/test_splits/wsi_location/2af27d65509c/labels... 1 images, 0 backgroun\u001b[0m\n",
      "\u001b[34m\u001b[1mval: \u001b[0mNew cache created: /home/ec2-user/hubmap-hacking-the-human-vasculature/project_yolo/data/test_splits/wsi_location/2af27d65509c/labels.cache\n",
      "                 Class     Images  Instances      Box(P          R      mAP50  mAP50-95)     Mask(P          R      mAP50  mAP50-95): 100%|██████████| 1/\n",
      "                   all          1          3      0.419          1      0.474      0.351      0.419          1      0.474      0.374\n",
      "          blood vessel          1          3      0.419          1      0.474      0.351      0.419          1      0.474      0.374\n",
      "Speed: 0.4ms preprocess, 161.5ms inference, 0.0ms loss, 1.0ms postprocess per image\n",
      "Results saved to \u001b[1mruns/segment/val45\u001b[0m\n",
      "Ultralytics YOLOv8.0.121 🚀 Python-3.10.11 torch-2.0.1+cu117 CPU\n"
     ]
    },
    {
     "name": "stdout",
     "output_type": "stream",
     "text": [
      "359bb86fa14f\n"
     ]
    },
    {
     "name": "stderr",
     "output_type": "stream",
     "text": [
      "\u001b[34m\u001b[1mval: \u001b[0mScanning /home/ec2-user/hubmap-hacking-the-human-vasculature/project_yolo/data/test_splits/wsi_location/359bb86fa14f/labels... 1 images, 0 backgroun\u001b[0m\n",
      "\u001b[34m\u001b[1mval: \u001b[0mNew cache created: /home/ec2-user/hubmap-hacking-the-human-vasculature/project_yolo/data/test_splits/wsi_location/359bb86fa14f/labels.cache\n",
      "                 Class     Images  Instances      Box(P          R      mAP50  mAP50-95)     Mask(P          R      mAP50  mAP50-95): 100%|██████████| 1/\n",
      "                   all          1         11      0.908      0.894      0.887      0.702      0.908      0.894      0.884      0.624\n",
      "          blood vessel          1         11      0.908      0.894      0.887      0.702      0.908      0.894      0.884      0.624\n",
      "Speed: 0.4ms preprocess, 161.6ms inference, 0.0ms loss, 1.3ms postprocess per image\n",
      "Results saved to \u001b[1mruns/segment/val46\u001b[0m\n",
      "Ultralytics YOLOv8.0.121 🚀 Python-3.10.11 torch-2.0.1+cu117 CPU\n"
     ]
    },
    {
     "name": "stdout",
     "output_type": "stream",
     "text": [
      "fc6def641612\n"
     ]
    },
    {
     "name": "stderr",
     "output_type": "stream",
     "text": [
      "\u001b[34m\u001b[1mval: \u001b[0mScanning /home/ec2-user/hubmap-hacking-the-human-vasculature/project_yolo/data/test_splits/wsi_location/fc6def641612/labels... 1 images, 0 backgroun\u001b[0m\n",
      "\u001b[34m\u001b[1mval: \u001b[0mNew cache created: /home/ec2-user/hubmap-hacking-the-human-vasculature/project_yolo/data/test_splits/wsi_location/fc6def641612/labels.cache\n",
      "                 Class     Images  Instances      Box(P          R      mAP50  mAP50-95)     Mask(P          R      mAP50  mAP50-95): 100%|██████████| 1/\n",
      "                   all          1          3      0.871      0.333      0.475      0.281      0.871      0.333      0.475      0.344\n",
      "          blood vessel          1          3      0.871      0.333      0.475      0.281      0.871      0.333      0.475      0.344\n",
      "Speed: 0.4ms preprocess, 162.7ms inference, 0.0ms loss, 1.1ms postprocess per image\n",
      "Results saved to \u001b[1mruns/segment/val47\u001b[0m\n",
      "Ultralytics YOLOv8.0.121 🚀 Python-3.10.11 torch-2.0.1+cu117 CPU\n"
     ]
    },
    {
     "name": "stdout",
     "output_type": "stream",
     "text": [
      "ed6a92a9410c\n"
     ]
    },
    {
     "name": "stderr",
     "output_type": "stream",
     "text": [
      "\u001b[34m\u001b[1mval: \u001b[0mScanning /home/ec2-user/hubmap-hacking-the-human-vasculature/project_yolo/data/test_splits/wsi_location/ed6a92a9410c/labels... 1 images, 0 backgroun\u001b[0m\n",
      "\u001b[34m\u001b[1mval: \u001b[0mNew cache created: /home/ec2-user/hubmap-hacking-the-human-vasculature/project_yolo/data/test_splits/wsi_location/ed6a92a9410c/labels.cache\n",
      "                 Class     Images  Instances      Box(P          R      mAP50  mAP50-95)     Mask(P          R      mAP50  mAP50-95): 100%|██████████| 1/\n",
      "                   all          1          9      0.982      0.889      0.888        0.6      0.982      0.889      0.888      0.568\n",
      "          blood vessel          1          9      0.982      0.889      0.888        0.6      0.982      0.889      0.888      0.568\n",
      "Speed: 0.4ms preprocess, 153.4ms inference, 0.0ms loss, 1.2ms postprocess per image\n",
      "Results saved to \u001b[1mruns/segment/val48\u001b[0m\n",
      "Ultralytics YOLOv8.0.121 🚀 Python-3.10.11 torch-2.0.1+cu117 CPU\n"
     ]
    },
    {
     "name": "stdout",
     "output_type": "stream",
     "text": [
      "3cf35a0393b8\n"
     ]
    },
    {
     "name": "stderr",
     "output_type": "stream",
     "text": [
      "\u001b[34m\u001b[1mval: \u001b[0mScanning /home/ec2-user/hubmap-hacking-the-human-vasculature/project_yolo/data/test_splits/wsi_location/3cf35a0393b8/labels... 1 images, 0 backgroun\u001b[0m\n",
      "\u001b[34m\u001b[1mval: \u001b[0mNew cache created: /home/ec2-user/hubmap-hacking-the-human-vasculature/project_yolo/data/test_splits/wsi_location/3cf35a0393b8/labels.cache\n",
      "                 Class     Images  Instances      Box(P          R      mAP50  mAP50-95)     Mask(P          R      mAP50  mAP50-95): 100%|██████████| 1/\n",
      "                   all          1          6      0.459      0.667      0.522       0.25      0.736        0.5       0.56      0.242\n",
      "          blood vessel          1          6      0.459      0.667      0.522       0.25      0.736        0.5       0.56      0.242\n",
      "Speed: 0.4ms preprocess, 161.9ms inference, 0.0ms loss, 5.9ms postprocess per image\n",
      "Results saved to \u001b[1mruns/segment/val49\u001b[0m\n",
      "Ultralytics YOLOv8.0.121 🚀 Python-3.10.11 torch-2.0.1+cu117 CPU\n"
     ]
    },
    {
     "name": "stdout",
     "output_type": "stream",
     "text": [
      "eba1f93e5a11\n"
     ]
    },
    {
     "name": "stderr",
     "output_type": "stream",
     "text": [
      "\u001b[34m\u001b[1mval: \u001b[0mScanning /home/ec2-user/hubmap-hacking-the-human-vasculature/project_yolo/data/test_splits/wsi_location/eba1f93e5a11/labels... 1 images, 0 backgroun\u001b[0m\n",
      "\u001b[34m\u001b[1mval: \u001b[0mNew cache created: /home/ec2-user/hubmap-hacking-the-human-vasculature/project_yolo/data/test_splits/wsi_location/eba1f93e5a11/labels.cache\n",
      "                 Class     Images  Instances      Box(P          R      mAP50  mAP50-95)     Mask(P          R      mAP50  mAP50-95): 100%|██████████| 1/\n",
      "                   all          1          2      0.373        0.5      0.324       0.23      0.373        0.5      0.324      0.212\n",
      "          blood vessel          1          2      0.373        0.5      0.324       0.23      0.373        0.5      0.324      0.212\n",
      "Speed: 0.4ms preprocess, 155.2ms inference, 0.0ms loss, 1.2ms postprocess per image\n",
      "Results saved to \u001b[1mruns/segment/val50\u001b[0m\n",
      "Ultralytics YOLOv8.0.121 🚀 Python-3.10.11 torch-2.0.1+cu117 CPU\n"
     ]
    },
    {
     "name": "stdout",
     "output_type": "stream",
     "text": [
      "e95c2881d1dc\n"
     ]
    },
    {
     "name": "stderr",
     "output_type": "stream",
     "text": [
      "\u001b[34m\u001b[1mval: \u001b[0mScanning /home/ec2-user/hubmap-hacking-the-human-vasculature/project_yolo/data/test_splits/wsi_location/e95c2881d1dc/labels... 1 images, 0 backgroun\u001b[0m\n",
      "\u001b[34m\u001b[1mval: \u001b[0mNew cache created: /home/ec2-user/hubmap-hacking-the-human-vasculature/project_yolo/data/test_splits/wsi_location/e95c2881d1dc/labels.cache\n",
      "                 Class     Images  Instances      Box(P          R      mAP50  mAP50-95)     Mask(P          R      mAP50  mAP50-95): 100%|██████████| 1/\n",
      "                   all          1          6      0.975      0.833      0.839        0.5      0.975      0.833      0.839      0.489\n",
      "          blood vessel          1          6      0.975      0.833      0.839        0.5      0.975      0.833      0.839      0.489\n",
      "Speed: 0.4ms preprocess, 155.3ms inference, 0.0ms loss, 1.0ms postprocess per image\n",
      "Results saved to \u001b[1mruns/segment/val51\u001b[0m\n",
      "Ultralytics YOLOv8.0.121 🚀 Python-3.10.11 torch-2.0.1+cu117 CPU\n"
     ]
    },
    {
     "name": "stdout",
     "output_type": "stream",
     "text": [
      "91ba77e94fd3\n"
     ]
    },
    {
     "name": "stderr",
     "output_type": "stream",
     "text": [
      "\u001b[34m\u001b[1mval: \u001b[0mScanning /home/ec2-user/hubmap-hacking-the-human-vasculature/project_yolo/data/test_splits/wsi_location/91ba77e94fd3/labels... 1 images, 0 backgroun\u001b[0m\n",
      "\u001b[34m\u001b[1mval: \u001b[0mNew cache created: /home/ec2-user/hubmap-hacking-the-human-vasculature/project_yolo/data/test_splits/wsi_location/91ba77e94fd3/labels.cache\n",
      "                 Class     Images  Instances      Box(P          R      mAP50  mAP50-95)     Mask(P          R      mAP50  mAP50-95): 100%|██████████| 1/\n",
      "                   all          1         11      0.437      0.545       0.35      0.122      0.437      0.545       0.35      0.122\n",
      "          blood vessel          1         11      0.437      0.545       0.35      0.122      0.437      0.545       0.35      0.122\n",
      "Speed: 0.4ms preprocess, 160.3ms inference, 0.0ms loss, 3.2ms postprocess per image\n",
      "Results saved to \u001b[1mruns/segment/val52\u001b[0m\n",
      "Ultralytics YOLOv8.0.121 🚀 Python-3.10.11 torch-2.0.1+cu117 CPU\n"
     ]
    },
    {
     "name": "stdout",
     "output_type": "stream",
     "text": [
      "b2e28a0849fb\n"
     ]
    },
    {
     "name": "stderr",
     "output_type": "stream",
     "text": [
      "\u001b[34m\u001b[1mval: \u001b[0mScanning /home/ec2-user/hubmap-hacking-the-human-vasculature/project_yolo/data/test_splits/wsi_location/b2e28a0849fb/labels... 1 images, 0 backgroun\u001b[0m\n",
      "\u001b[34m\u001b[1mval: \u001b[0mNew cache created: /home/ec2-user/hubmap-hacking-the-human-vasculature/project_yolo/data/test_splits/wsi_location/b2e28a0849fb/labels.cache\n",
      "                 Class     Images  Instances      Box(P          R      mAP50  mAP50-95)     Mask(P          R      mAP50  mAP50-95): 100%|██████████| 1/\n",
      "                   all          1         34      0.937       0.44      0.673      0.367      0.937       0.44      0.673      0.357\n",
      "          blood vessel          1         34      0.937       0.44      0.673      0.367      0.937       0.44      0.673      0.357\n",
      "Speed: 0.4ms preprocess, 164.3ms inference, 0.0ms loss, 6.6ms postprocess per image\n",
      "Results saved to \u001b[1mruns/segment/val53\u001b[0m\n",
      "Ultralytics YOLOv8.0.121 🚀 Python-3.10.11 torch-2.0.1+cu117 CPU\n"
     ]
    },
    {
     "name": "stdout",
     "output_type": "stream",
     "text": [
      "212fc627af24\n"
     ]
    },
    {
     "name": "stderr",
     "output_type": "stream",
     "text": [
      "\u001b[34m\u001b[1mval: \u001b[0mScanning /home/ec2-user/hubmap-hacking-the-human-vasculature/project_yolo/data/test_splits/wsi_location/212fc627af24/labels... 1 images, 0 backgroun\u001b[0m\n",
      "\u001b[34m\u001b[1mval: \u001b[0mNew cache created: /home/ec2-user/hubmap-hacking-the-human-vasculature/project_yolo/data/test_splits/wsi_location/212fc627af24/labels.cache\n",
      "                 Class     Images  Instances      Box(P          R      mAP50  mAP50-95)     Mask(P          R      mAP50  mAP50-95): 100%|██████████| 1/\n",
      "                   all          1         15      0.663        0.8      0.702      0.289      0.703      0.867      0.743      0.295\n",
      "          blood vessel          1         15      0.663        0.8      0.702      0.289      0.703      0.867      0.743      0.295\n",
      "Speed: 0.4ms preprocess, 158.1ms inference, 0.0ms loss, 3.2ms postprocess per image\n",
      "Results saved to \u001b[1mruns/segment/val54\u001b[0m\n",
      "Ultralytics YOLOv8.0.121 🚀 Python-3.10.11 torch-2.0.1+cu117 CPU\n"
     ]
    },
    {
     "name": "stdout",
     "output_type": "stream",
     "text": [
      "ccb2255e294d\n"
     ]
    },
    {
     "name": "stderr",
     "output_type": "stream",
     "text": [
      "\u001b[34m\u001b[1mval: \u001b[0mScanning /home/ec2-user/hubmap-hacking-the-human-vasculature/project_yolo/data/test_splits/wsi_location/ccb2255e294d/labels... 1 images, 0 backgroun\u001b[0m\n",
      "\u001b[34m\u001b[1mval: \u001b[0mNew cache created: /home/ec2-user/hubmap-hacking-the-human-vasculature/project_yolo/data/test_splits/wsi_location/ccb2255e294d/labels.cache\n",
      "                 Class     Images  Instances      Box(P          R      mAP50  mAP50-95)     Mask(P          R      mAP50  mAP50-95): 100%|██████████| 1/\n",
      "                   all          1         36      0.668      0.672      0.729       0.35      0.695      0.697       0.73       0.33\n",
      "          blood vessel          1         36      0.668      0.672      0.729       0.35      0.695      0.697       0.73       0.33\n",
      "Speed: 0.4ms preprocess, 167.8ms inference, 0.0ms loss, 8.7ms postprocess per image\n",
      "Results saved to \u001b[1mruns/segment/val55\u001b[0m\n",
      "Ultralytics YOLOv8.0.121 🚀 Python-3.10.11 torch-2.0.1+cu117 CPU\n"
     ]
    },
    {
     "name": "stdout",
     "output_type": "stream",
     "text": [
      "66bc46f89c87\n"
     ]
    },
    {
     "name": "stderr",
     "output_type": "stream",
     "text": [
      "\u001b[34m\u001b[1mval: \u001b[0mScanning /home/ec2-user/hubmap-hacking-the-human-vasculature/project_yolo/data/test_splits/wsi_location/66bc46f89c87/labels... 1 images, 0 backgroun\u001b[0m\n",
      "\u001b[34m\u001b[1mval: \u001b[0mNew cache created: /home/ec2-user/hubmap-hacking-the-human-vasculature/project_yolo/data/test_splits/wsi_location/66bc46f89c87/labels.cache\n",
      "                 Class     Images  Instances      Box(P          R      mAP50  mAP50-95)     Mask(P          R      mAP50  mAP50-95): 100%|██████████| 1/\n",
      "                   all          1         13      0.745      0.308      0.423      0.249      0.931      0.385      0.533      0.223\n",
      "          blood vessel          1         13      0.745      0.308      0.423      0.249      0.931      0.385      0.533      0.223\n",
      "Speed: 0.5ms preprocess, 165.2ms inference, 0.0ms loss, 4.0ms postprocess per image\n",
      "Results saved to \u001b[1mruns/segment/val56\u001b[0m\n",
      "Ultralytics YOLOv8.0.121 🚀 Python-3.10.11 torch-2.0.1+cu117 CPU\n"
     ]
    },
    {
     "name": "stdout",
     "output_type": "stream",
     "text": [
      "e65fc78aa66a\n"
     ]
    },
    {
     "name": "stderr",
     "output_type": "stream",
     "text": [
      "\u001b[34m\u001b[1mval: \u001b[0mScanning /home/ec2-user/hubmap-hacking-the-human-vasculature/project_yolo/data/test_splits/wsi_location/e65fc78aa66a/labels... 1 images, 0 backgroun\u001b[0m\n",
      "\u001b[34m\u001b[1mval: \u001b[0mNew cache created: /home/ec2-user/hubmap-hacking-the-human-vasculature/project_yolo/data/test_splits/wsi_location/e65fc78aa66a/labels.cache\n",
      "                 Class     Images  Instances      Box(P          R      mAP50  mAP50-95)     Mask(P          R      mAP50  mAP50-95): 100%|██████████| 1/\n",
      "                   all          1          9      0.455      0.556      0.519      0.311      0.455      0.556      0.473       0.21\n",
      "          blood vessel          1          9      0.455      0.556      0.519      0.311      0.455      0.556      0.473       0.21\n",
      "Speed: 0.4ms preprocess, 161.0ms inference, 0.0ms loss, 2.7ms postprocess per image\n",
      "Results saved to \u001b[1mruns/segment/val57\u001b[0m\n",
      "Ultralytics YOLOv8.0.121 🚀 Python-3.10.11 torch-2.0.1+cu117 CPU\n"
     ]
    },
    {
     "name": "stdout",
     "output_type": "stream",
     "text": [
      "51a2ad418b22\n"
     ]
    },
    {
     "name": "stderr",
     "output_type": "stream",
     "text": [
      "\u001b[34m\u001b[1mval: \u001b[0mScanning /home/ec2-user/hubmap-hacking-the-human-vasculature/project_yolo/data/test_splits/wsi_location/51a2ad418b22/labels... 1 images, 0 backgroun\u001b[0m\n",
      "\u001b[34m\u001b[1mval: \u001b[0mNew cache created: /home/ec2-user/hubmap-hacking-the-human-vasculature/project_yolo/data/test_splits/wsi_location/51a2ad418b22/labels.cache\n",
      "                 Class     Images  Instances      Box(P          R      mAP50  mAP50-95)     Mask(P          R      mAP50  mAP50-95): 100%|██████████| 1/\n",
      "                   all          1         20      0.828        0.8      0.809      0.374      0.828        0.8      0.806      0.324\n",
      "          blood vessel          1         20      0.828        0.8      0.809      0.374      0.828        0.8      0.806      0.324\n",
      "Speed: 0.4ms preprocess, 166.2ms inference, 0.0ms loss, 3.7ms postprocess per image\n",
      "Results saved to \u001b[1mruns/segment/val58\u001b[0m\n",
      "Ultralytics YOLOv8.0.121 🚀 Python-3.10.11 torch-2.0.1+cu117 CPU\n"
     ]
    },
    {
     "name": "stdout",
     "output_type": "stream",
     "text": [
      "27661a87f456\n"
     ]
    },
    {
     "name": "stderr",
     "output_type": "stream",
     "text": [
      "\u001b[34m\u001b[1mval: \u001b[0mScanning /home/ec2-user/hubmap-hacking-the-human-vasculature/project_yolo/data/test_splits/wsi_location/27661a87f456/labels... 1 images, 0 backgroun\u001b[0m\n",
      "\u001b[34m\u001b[1mval: \u001b[0mNew cache created: /home/ec2-user/hubmap-hacking-the-human-vasculature/project_yolo/data/test_splits/wsi_location/27661a87f456/labels.cache\n",
      "                 Class     Images  Instances      Box(P          R      mAP50  mAP50-95)     Mask(P          R      mAP50  mAP50-95): 100%|██████████| 1/\n",
      "                   all          1         10       0.57      0.796      0.607      0.357       0.57      0.796      0.607      0.217\n",
      "          blood vessel          1         10       0.57      0.796      0.607      0.357       0.57      0.796      0.607      0.217\n",
      "Speed: 0.4ms preprocess, 161.1ms inference, 0.0ms loss, 2.5ms postprocess per image\n",
      "Results saved to \u001b[1mruns/segment/val59\u001b[0m\n",
      "Ultralytics YOLOv8.0.121 🚀 Python-3.10.11 torch-2.0.1+cu117 CPU\n"
     ]
    },
    {
     "name": "stdout",
     "output_type": "stream",
     "text": [
      "73d99bec414b\n"
     ]
    },
    {
     "name": "stderr",
     "output_type": "stream",
     "text": [
      "\u001b[34m\u001b[1mval: \u001b[0mScanning /home/ec2-user/hubmap-hacking-the-human-vasculature/project_yolo/data/test_splits/wsi_location/73d99bec414b/labels... 1 images, 0 backgroun\u001b[0m\n",
      "\u001b[34m\u001b[1mval: \u001b[0mNew cache created: /home/ec2-user/hubmap-hacking-the-human-vasculature/project_yolo/data/test_splits/wsi_location/73d99bec414b/labels.cache\n",
      "                 Class     Images  Instances      Box(P          R      mAP50  mAP50-95)     Mask(P          R      mAP50  mAP50-95): 100%|██████████| 1/\n",
      "                   all          1         13       0.48      0.615      0.583      0.318      0.454      0.832      0.629      0.229\n",
      "          blood vessel          1         13       0.48      0.615      0.583      0.318      0.454      0.832      0.629      0.229\n",
      "Speed: 0.4ms preprocess, 158.6ms inference, 0.0ms loss, 3.0ms postprocess per image\n",
      "Results saved to \u001b[1mruns/segment/val60\u001b[0m\n",
      "Ultralytics YOLOv8.0.121 🚀 Python-3.10.11 torch-2.0.1+cu117 CPU\n"
     ]
    },
    {
     "name": "stdout",
     "output_type": "stream",
     "text": [
      "f38f2f72a1b7\n"
     ]
    },
    {
     "name": "stderr",
     "output_type": "stream",
     "text": [
      "\u001b[34m\u001b[1mval: \u001b[0mScanning /home/ec2-user/hubmap-hacking-the-human-vasculature/project_yolo/data/test_splits/wsi_location/f38f2f72a1b7/labels... 1 images, 0 backgroun\u001b[0m\n",
      "\u001b[34m\u001b[1mval: \u001b[0mNew cache created: /home/ec2-user/hubmap-hacking-the-human-vasculature/project_yolo/data/test_splits/wsi_location/f38f2f72a1b7/labels.cache\n",
      "                 Class     Images  Instances      Box(P          R      mAP50  mAP50-95)     Mask(P          R      mAP50  mAP50-95): 100%|██████████| 1/\n",
      "                   all          1         40      0.777      0.825       0.83       0.47      0.777      0.825       0.83      0.456\n",
      "          blood vessel          1         40      0.777      0.825       0.83       0.47      0.777      0.825       0.83      0.456\n",
      "Speed: 0.4ms preprocess, 159.1ms inference, 0.0ms loss, 4.4ms postprocess per image\n",
      "Results saved to \u001b[1mruns/segment/val61\u001b[0m\n",
      "Ultralytics YOLOv8.0.121 🚀 Python-3.10.11 torch-2.0.1+cu117 CPU\n"
     ]
    },
    {
     "name": "stdout",
     "output_type": "stream",
     "text": [
      "0acd70e887b3\n"
     ]
    },
    {
     "name": "stderr",
     "output_type": "stream",
     "text": [
      "\u001b[34m\u001b[1mval: \u001b[0mScanning /home/ec2-user/hubmap-hacking-the-human-vasculature/project_yolo/data/test_splits/wsi_location/0acd70e887b3/labels... 1 images, 0 backgroun\u001b[0m\n",
      "\u001b[34m\u001b[1mval: \u001b[0mNew cache created: /home/ec2-user/hubmap-hacking-the-human-vasculature/project_yolo/data/test_splits/wsi_location/0acd70e887b3/labels.cache\n",
      "                 Class     Images  Instances      Box(P          R      mAP50  mAP50-95)     Mask(P          R      mAP50  mAP50-95): 100%|██████████| 1/\n",
      "                   all          1         12      0.709       0.25      0.407      0.201      0.454      0.583       0.51      0.176\n",
      "          blood vessel          1         12      0.709       0.25      0.407      0.201      0.454      0.583       0.51      0.176\n",
      "Speed: 0.4ms preprocess, 161.1ms inference, 0.0ms loss, 3.3ms postprocess per image\n",
      "Results saved to \u001b[1mruns/segment/val62\u001b[0m\n",
      "Ultralytics YOLOv8.0.121 🚀 Python-3.10.11 torch-2.0.1+cu117 CPU\n"
     ]
    },
    {
     "name": "stdout",
     "output_type": "stream",
     "text": [
      "2ad1b19b87df\n"
     ]
    },
    {
     "name": "stderr",
     "output_type": "stream",
     "text": [
      "\u001b[34m\u001b[1mval: \u001b[0mScanning /home/ec2-user/hubmap-hacking-the-human-vasculature/project_yolo/data/test_splits/wsi_location/2ad1b19b87df/labels... 1 images, 0 backgroun\u001b[0m\n",
      "\u001b[34m\u001b[1mval: \u001b[0mNew cache created: /home/ec2-user/hubmap-hacking-the-human-vasculature/project_yolo/data/test_splits/wsi_location/2ad1b19b87df/labels.cache\n",
      "                 Class     Images  Instances      Box(P          R      mAP50  mAP50-95)     Mask(P          R      mAP50  mAP50-95): 100%|██████████| 1/\n",
      "                   all          1         11      0.799      0.362      0.454      0.174      0.799      0.362      0.411      0.163\n",
      "          blood vessel          1         11      0.799      0.362      0.454      0.174      0.799      0.362      0.411      0.163\n",
      "Speed: 0.4ms preprocess, 164.0ms inference, 0.0ms loss, 4.7ms postprocess per image\n",
      "Results saved to \u001b[1mruns/segment/val63\u001b[0m\n",
      "Ultralytics YOLOv8.0.121 🚀 Python-3.10.11 torch-2.0.1+cu117 CPU\n"
     ]
    },
    {
     "name": "stdout",
     "output_type": "stream",
     "text": [
      "bb7e7fae1cf4\n"
     ]
    },
    {
     "name": "stderr",
     "output_type": "stream",
     "text": [
      "\u001b[34m\u001b[1mval: \u001b[0mScanning /home/ec2-user/hubmap-hacking-the-human-vasculature/project_yolo/data/test_splits/wsi_location/bb7e7fae1cf4/labels... 1 images, 0 backgroun\u001b[0m\n",
      "\u001b[34m\u001b[1mval: \u001b[0mNew cache created: /home/ec2-user/hubmap-hacking-the-human-vasculature/project_yolo/data/test_splits/wsi_location/bb7e7fae1cf4/labels.cache\n",
      "                 Class     Images  Instances      Box(P          R      mAP50  mAP50-95)     Mask(P          R      mAP50  mAP50-95): 100%|██████████| 1/\n",
      "                   all          1          3      0.231      0.333      0.124     0.0483      0.231      0.333      0.112      0.043\n",
      "          blood vessel          1          3      0.231      0.333      0.124     0.0483      0.231      0.333      0.112      0.043\n",
      "Speed: 0.4ms preprocess, 161.2ms inference, 0.0ms loss, 5.9ms postprocess per image\n",
      "Results saved to \u001b[1mruns/segment/val64\u001b[0m\n",
      "Ultralytics YOLOv8.0.121 🚀 Python-3.10.11 torch-2.0.1+cu117 CPU\n"
     ]
    },
    {
     "name": "stdout",
     "output_type": "stream",
     "text": [
      "8d60ccc783c1\n"
     ]
    },
    {
     "name": "stderr",
     "output_type": "stream",
     "text": [
      "\u001b[34m\u001b[1mval: \u001b[0mScanning /home/ec2-user/hubmap-hacking-the-human-vasculature/project_yolo/data/test_splits/wsi_location/8d60ccc783c1/labels... 1 images, 0 backgroun\u001b[0m\n",
      "\u001b[34m\u001b[1mval: \u001b[0mNew cache created: /home/ec2-user/hubmap-hacking-the-human-vasculature/project_yolo/data/test_splits/wsi_location/8d60ccc783c1/labels.cache\n",
      "                 Class     Images  Instances      Box(P          R      mAP50  mAP50-95)     Mask(P          R      mAP50  mAP50-95): 100%|██████████| 1/\n",
      "                   all          1          7      0.461      0.857      0.517      0.294      0.461      0.857      0.517      0.253\n",
      "          blood vessel          1          7      0.461      0.857      0.517      0.294      0.461      0.857      0.517      0.253\n",
      "Speed: 0.4ms preprocess, 162.7ms inference, 0.0ms loss, 3.9ms postprocess per image\n",
      "Results saved to \u001b[1mruns/segment/val65\u001b[0m\n",
      "Ultralytics YOLOv8.0.121 🚀 Python-3.10.11 torch-2.0.1+cu117 CPU\n"
     ]
    },
    {
     "name": "stdout",
     "output_type": "stream",
     "text": [
      "e93185008c33\n"
     ]
    },
    {
     "name": "stderr",
     "output_type": "stream",
     "text": [
      "\u001b[34m\u001b[1mval: \u001b[0mScanning /home/ec2-user/hubmap-hacking-the-human-vasculature/project_yolo/data/test_splits/wsi_location/e93185008c33/labels... 1 images, 0 backgroun\u001b[0m\n",
      "\u001b[34m\u001b[1mval: \u001b[0mNew cache created: /home/ec2-user/hubmap-hacking-the-human-vasculature/project_yolo/data/test_splits/wsi_location/e93185008c33/labels.cache\n",
      "                 Class     Images  Instances      Box(P          R      mAP50  mAP50-95)     Mask(P          R      mAP50  mAP50-95): 100%|██████████| 1/\n",
      "                   all          1          8      0.652        0.5      0.462      0.202      0.652        0.5      0.495      0.246\n",
      "          blood vessel          1          8      0.652        0.5      0.462      0.202      0.652        0.5      0.495      0.246\n",
      "Speed: 0.4ms preprocess, 160.0ms inference, 0.0ms loss, 3.4ms postprocess per image\n",
      "Results saved to \u001b[1mruns/segment/val66\u001b[0m\n",
      "Ultralytics YOLOv8.0.121 🚀 Python-3.10.11 torch-2.0.1+cu117 CPU\n"
     ]
    },
    {
     "name": "stdout",
     "output_type": "stream",
     "text": [
      "7fc91238e6f8\n"
     ]
    },
    {
     "name": "stderr",
     "output_type": "stream",
     "text": [
      "\u001b[34m\u001b[1mval: \u001b[0mScanning /home/ec2-user/hubmap-hacking-the-human-vasculature/project_yolo/data/test_splits/wsi_location/7fc91238e6f8/labels... 1 images, 0 backgroun\u001b[0m\n",
      "\u001b[34m\u001b[1mval: \u001b[0mNew cache created: /home/ec2-user/hubmap-hacking-the-human-vasculature/project_yolo/data/test_splits/wsi_location/7fc91238e6f8/labels.cache\n",
      "                 Class     Images  Instances      Box(P          R      mAP50  mAP50-95)     Mask(P          R      mAP50  mAP50-95): 100%|██████████| 1/\n",
      "                   all          1         19      0.551      0.842      0.694        0.3      0.567      0.757      0.713      0.281\n",
      "          blood vessel          1         19      0.551      0.842      0.694        0.3      0.567      0.757      0.713      0.281\n",
      "Speed: 1.9ms preprocess, 163.1ms inference, 0.0ms loss, 3.8ms postprocess per image\n",
      "Results saved to \u001b[1mruns/segment/val67\u001b[0m\n",
      "Ultralytics YOLOv8.0.121 🚀 Python-3.10.11 torch-2.0.1+cu117 CPU\n"
     ]
    },
    {
     "name": "stdout",
     "output_type": "stream",
     "text": [
      "a88bead7ca59\n"
     ]
    },
    {
     "name": "stderr",
     "output_type": "stream",
     "text": [
      "\u001b[34m\u001b[1mval: \u001b[0mScanning /home/ec2-user/hubmap-hacking-the-human-vasculature/project_yolo/data/test_splits/wsi_location/a88bead7ca59/labels... 1 images, 0 backgroun\u001b[0m\n",
      "\u001b[34m\u001b[1mval: \u001b[0mNew cache created: /home/ec2-user/hubmap-hacking-the-human-vasculature/project_yolo/data/test_splits/wsi_location/a88bead7ca59/labels.cache\n",
      "                 Class     Images  Instances      Box(P          R      mAP50  mAP50-95)     Mask(P          R      mAP50  mAP50-95): 100%|██████████| 1/\n",
      "                   all          1         14      0.571       0.57      0.564      0.334      0.701      0.357      0.501        0.3\n",
      "          blood vessel          1         14      0.571       0.57      0.564      0.334      0.701      0.357      0.501        0.3\n",
      "Speed: 0.4ms preprocess, 162.5ms inference, 0.0ms loss, 7.1ms postprocess per image\n",
      "Results saved to \u001b[1mruns/segment/val68\u001b[0m\n",
      "Ultralytics YOLOv8.0.121 🚀 Python-3.10.11 torch-2.0.1+cu117 CPU\n"
     ]
    },
    {
     "name": "stdout",
     "output_type": "stream",
     "text": [
      "0067d5ad2250\n"
     ]
    },
    {
     "name": "stderr",
     "output_type": "stream",
     "text": [
      "\u001b[34m\u001b[1mval: \u001b[0mScanning /home/ec2-user/hubmap-hacking-the-human-vasculature/project_yolo/data/test_splits/wsi_location/0067d5ad2250/labels... 1 images, 0 backgroun\u001b[0m\n",
      "\u001b[34m\u001b[1mval: \u001b[0mNew cache created: /home/ec2-user/hubmap-hacking-the-human-vasculature/project_yolo/data/test_splits/wsi_location/0067d5ad2250/labels.cache\n",
      "                 Class     Images  Instances      Box(P          R      mAP50  mAP50-95)     Mask(P          R      mAP50  mAP50-95): 100%|██████████| 1/\n",
      "                   all          1          6      0.469        0.5      0.459      0.246      0.469        0.5      0.452      0.179\n",
      "          blood vessel          1          6      0.469        0.5      0.459      0.246      0.469        0.5      0.452      0.179\n",
      "Speed: 0.4ms preprocess, 157.4ms inference, 0.0ms loss, 4.1ms postprocess per image\n",
      "Results saved to \u001b[1mruns/segment/val69\u001b[0m\n",
      "Ultralytics YOLOv8.0.121 🚀 Python-3.10.11 torch-2.0.1+cu117 CPU\n"
     ]
    },
    {
     "name": "stdout",
     "output_type": "stream",
     "text": [
      "465022519f3f\n"
     ]
    },
    {
     "name": "stderr",
     "output_type": "stream",
     "text": [
      "\u001b[34m\u001b[1mval: \u001b[0mScanning /home/ec2-user/hubmap-hacking-the-human-vasculature/project_yolo/data/test_splits/wsi_location/465022519f3f/labels... 1 images, 0 backgroun\u001b[0m\n",
      "\u001b[34m\u001b[1mval: \u001b[0mNew cache created: /home/ec2-user/hubmap-hacking-the-human-vasculature/project_yolo/data/test_splits/wsi_location/465022519f3f/labels.cache\n",
      "                 Class     Images  Instances      Box(P          R      mAP50  mAP50-95)     Mask(P          R      mAP50  mAP50-95): 100%|██████████| 1/\n",
      "                   all          1         12      0.639       0.75      0.695      0.336      0.604      0.667      0.644      0.273\n",
      "          blood vessel          1         12      0.639       0.75      0.695      0.336      0.604      0.667      0.644      0.273\n",
      "Speed: 0.4ms preprocess, 164.3ms inference, 0.0ms loss, 4.6ms postprocess per image\n",
      "Results saved to \u001b[1mruns/segment/val70\u001b[0m\n",
      "Ultralytics YOLOv8.0.121 🚀 Python-3.10.11 torch-2.0.1+cu117 CPU\n"
     ]
    },
    {
     "name": "stdout",
     "output_type": "stream",
     "text": [
      "9ba29448632b\n"
     ]
    },
    {
     "name": "stderr",
     "output_type": "stream",
     "text": [
      "\u001b[34m\u001b[1mval: \u001b[0mScanning /home/ec2-user/hubmap-hacking-the-human-vasculature/project_yolo/data/test_splits/wsi_location/9ba29448632b/labels... 1 images, 0 backgroun\u001b[0m\n",
      "\u001b[34m\u001b[1mval: \u001b[0mNew cache created: /home/ec2-user/hubmap-hacking-the-human-vasculature/project_yolo/data/test_splits/wsi_location/9ba29448632b/labels.cache\n",
      "                 Class     Images  Instances      Box(P          R      mAP50  mAP50-95)     Mask(P          R      mAP50  mAP50-95): 100%|██████████| 1/\n",
      "                   all          1         13      0.749      0.615      0.627       0.31      0.857      0.692      0.748      0.328\n",
      "          blood vessel          1         13      0.749      0.615      0.627       0.31      0.857      0.692      0.748      0.328\n",
      "Speed: 0.4ms preprocess, 162.1ms inference, 0.0ms loss, 6.2ms postprocess per image\n",
      "Results saved to \u001b[1mruns/segment/val71\u001b[0m\n",
      "Ultralytics YOLOv8.0.121 🚀 Python-3.10.11 torch-2.0.1+cu117 CPU\n"
     ]
    },
    {
     "name": "stdout",
     "output_type": "stream",
     "text": [
      "ad4cabec2278\n"
     ]
    },
    {
     "name": "stderr",
     "output_type": "stream",
     "text": [
      "\u001b[34m\u001b[1mval: \u001b[0mScanning /home/ec2-user/hubmap-hacking-the-human-vasculature/project_yolo/data/test_splits/wsi_location/ad4cabec2278/labels... 1 images, 0 backgroun\u001b[0m\n",
      "\u001b[34m\u001b[1mval: \u001b[0mNew cache created: /home/ec2-user/hubmap-hacking-the-human-vasculature/project_yolo/data/test_splits/wsi_location/ad4cabec2278/labels.cache\n",
      "                 Class     Images  Instances      Box(P          R      mAP50  mAP50-95)     Mask(P          R      mAP50  mAP50-95): 100%|██████████| 1/\n",
      "                   all          1         11      0.555      0.818      0.689      0.345      0.555      0.818      0.689      0.383\n",
      "          blood vessel          1         11      0.555      0.818      0.689      0.345      0.555      0.818      0.689      0.383\n",
      "Speed: 0.4ms preprocess, 166.1ms inference, 0.0ms loss, 2.5ms postprocess per image\n",
      "Results saved to \u001b[1mruns/segment/val72\u001b[0m\n",
      "Ultralytics YOLOv8.0.121 🚀 Python-3.10.11 torch-2.0.1+cu117 CPU\n"
     ]
    },
    {
     "name": "stdout",
     "output_type": "stream",
     "text": [
      "a65fdd745f6f\n"
     ]
    },
    {
     "name": "stderr",
     "output_type": "stream",
     "text": [
      "\u001b[34m\u001b[1mval: \u001b[0mScanning /home/ec2-user/hubmap-hacking-the-human-vasculature/project_yolo/data/test_splits/wsi_location/a65fdd745f6f/labels... 1 images, 0 backgroun\u001b[0m\n",
      "\u001b[34m\u001b[1mval: \u001b[0mNew cache created: /home/ec2-user/hubmap-hacking-the-human-vasculature/project_yolo/data/test_splits/wsi_location/a65fdd745f6f/labels.cache\n",
      "                 Class     Images  Instances      Box(P          R      mAP50  mAP50-95)     Mask(P          R      mAP50  mAP50-95): 100%|██████████| 1/\n",
      "                   all          1          6      0.723        0.5      0.574      0.277      0.723        0.5      0.574       0.33\n",
      "          blood vessel          1          6      0.723        0.5      0.574      0.277      0.723        0.5      0.574       0.33\n",
      "Speed: 0.4ms preprocess, 162.7ms inference, 0.0ms loss, 3.2ms postprocess per image\n",
      "Results saved to \u001b[1mruns/segment/val73\u001b[0m\n",
      "Ultralytics YOLOv8.0.121 🚀 Python-3.10.11 torch-2.0.1+cu117 CPU\n"
     ]
    },
    {
     "name": "stdout",
     "output_type": "stream",
     "text": [
      "3879b8c84baf\n"
     ]
    },
    {
     "name": "stderr",
     "output_type": "stream",
     "text": [
      "\u001b[34m\u001b[1mval: \u001b[0mScanning /home/ec2-user/hubmap-hacking-the-human-vasculature/project_yolo/data/test_splits/wsi_location/3879b8c84baf/labels... 1 images, 0 backgroun\u001b[0m\n",
      "\u001b[34m\u001b[1mval: \u001b[0mNew cache created: /home/ec2-user/hubmap-hacking-the-human-vasculature/project_yolo/data/test_splits/wsi_location/3879b8c84baf/labels.cache\n",
      "                 Class     Images  Instances      Box(P          R      mAP50  mAP50-95)     Mask(P          R      mAP50  mAP50-95): 100%|██████████| 1/\n",
      "                   all          1          7      0.365      0.714      0.336      0.117      0.442      0.857      0.441      0.155\n",
      "          blood vessel          1          7      0.365      0.714      0.336      0.117      0.442      0.857      0.441      0.155\n",
      "Speed: 0.4ms preprocess, 161.8ms inference, 0.0ms loss, 5.4ms postprocess per image\n",
      "Results saved to \u001b[1mruns/segment/val74\u001b[0m\n",
      "Ultralytics YOLOv8.0.121 🚀 Python-3.10.11 torch-2.0.1+cu117 CPU\n"
     ]
    },
    {
     "name": "stdout",
     "output_type": "stream",
     "text": [
      "d3bab0895723\n"
     ]
    },
    {
     "name": "stderr",
     "output_type": "stream",
     "text": [
      "\u001b[34m\u001b[1mval: \u001b[0mScanning /home/ec2-user/hubmap-hacking-the-human-vasculature/project_yolo/data/test_splits/wsi_location/d3bab0895723/labels... 1 images, 0 backgroun\u001b[0m\n",
      "\u001b[34m\u001b[1mval: \u001b[0mNew cache created: /home/ec2-user/hubmap-hacking-the-human-vasculature/project_yolo/data/test_splits/wsi_location/d3bab0895723/labels.cache\n",
      "                 Class     Images  Instances      Box(P          R      mAP50  mAP50-95)     Mask(P          R      mAP50  mAP50-95): 100%|██████████| 1/\n",
      "                   all          1         12      0.469      0.667      0.549      0.337      0.469      0.667      0.532      0.288\n",
      "          blood vessel          1         12      0.469      0.667      0.549      0.337      0.469      0.667      0.532      0.288\n",
      "Speed: 0.4ms preprocess, 162.1ms inference, 0.0ms loss, 4.5ms postprocess per image\n",
      "Results saved to \u001b[1mruns/segment/val75\u001b[0m\n",
      "Ultralytics YOLOv8.0.121 🚀 Python-3.10.11 torch-2.0.1+cu117 CPU\n"
     ]
    },
    {
     "name": "stdout",
     "output_type": "stream",
     "text": [
      "5232ba7fa001\n"
     ]
    },
    {
     "name": "stderr",
     "output_type": "stream",
     "text": [
      "\u001b[34m\u001b[1mval: \u001b[0mScanning /home/ec2-user/hubmap-hacking-the-human-vasculature/project_yolo/data/test_splits/wsi_location/5232ba7fa001/labels... 1 images, 0 backgroun\u001b[0m\n",
      "\u001b[34m\u001b[1mval: \u001b[0mNew cache created: /home/ec2-user/hubmap-hacking-the-human-vasculature/project_yolo/data/test_splits/wsi_location/5232ba7fa001/labels.cache\n",
      "                 Class     Images  Instances      Box(P          R      mAP50  mAP50-95)     Mask(P          R      mAP50  mAP50-95): 100%|██████████| 1/\n",
      "                   all          1         31      0.916      0.839      0.916       0.41      0.916      0.839      0.909      0.325\n",
      "          blood vessel          1         31      0.916      0.839      0.916       0.41      0.916      0.839      0.909      0.325\n",
      "Speed: 0.4ms preprocess, 160.0ms inference, 0.0ms loss, 5.1ms postprocess per image\n",
      "Results saved to \u001b[1mruns/segment/val76\u001b[0m\n",
      "Ultralytics YOLOv8.0.121 🚀 Python-3.10.11 torch-2.0.1+cu117 CPU\n"
     ]
    },
    {
     "name": "stdout",
     "output_type": "stream",
     "text": [
      "602d24899028\n"
     ]
    },
    {
     "name": "stderr",
     "output_type": "stream",
     "text": [
      "\u001b[34m\u001b[1mval: \u001b[0mScanning /home/ec2-user/hubmap-hacking-the-human-vasculature/project_yolo/data/test_splits/wsi_location/602d24899028/labels... 1 images, 0 backgroun\u001b[0m\n",
      "\u001b[34m\u001b[1mval: \u001b[0mNew cache created: /home/ec2-user/hubmap-hacking-the-human-vasculature/project_yolo/data/test_splits/wsi_location/602d24899028/labels.cache\n",
      "                 Class     Images  Instances      Box(P          R      mAP50  mAP50-95)     Mask(P          R      mAP50  mAP50-95): 100%|██████████| 1/\n",
      "                   all          1          6      0.279      0.833      0.266      0.077      0.226      0.667      0.195     0.0814\n",
      "          blood vessel          1          6      0.279      0.833      0.266      0.077      0.226      0.667      0.195     0.0814\n",
      "Speed: 0.4ms preprocess, 156.2ms inference, 0.0ms loss, 3.1ms postprocess per image\n",
      "Results saved to \u001b[1mruns/segment/val77\u001b[0m\n",
      "Ultralytics YOLOv8.0.121 🚀 Python-3.10.11 torch-2.0.1+cu117 CPU\n"
     ]
    },
    {
     "name": "stdout",
     "output_type": "stream",
     "text": [
      "55cab2c9c13a\n"
     ]
    },
    {
     "name": "stderr",
     "output_type": "stream",
     "text": [
      "\u001b[34m\u001b[1mval: \u001b[0mScanning /home/ec2-user/hubmap-hacking-the-human-vasculature/project_yolo/data/test_splits/wsi_location/55cab2c9c13a/labels... 1 images, 0 backgroun\u001b[0m\n",
      "\u001b[34m\u001b[1mval: \u001b[0mNew cache created: /home/ec2-user/hubmap-hacking-the-human-vasculature/project_yolo/data/test_splits/wsi_location/55cab2c9c13a/labels.cache\n",
      "                 Class     Images  Instances      Box(P          R      mAP50  mAP50-95)     Mask(P          R      mAP50  mAP50-95): 100%|██████████| 1/\n",
      "                   all          1          1      0.868          1      0.995      0.697      0.868          1      0.995      0.298\n",
      "          blood vessel          1          1      0.868          1      0.995      0.697      0.868          1      0.995      0.298\n",
      "Speed: 0.4ms preprocess, 158.8ms inference, 0.0ms loss, 0.9ms postprocess per image\n",
      "Results saved to \u001b[1mruns/segment/val78\u001b[0m\n",
      "Ultralytics YOLOv8.0.121 🚀 Python-3.10.11 torch-2.0.1+cu117 CPU\n"
     ]
    },
    {
     "name": "stdout",
     "output_type": "stream",
     "text": [
      "939c99c1e09a\n"
     ]
    },
    {
     "name": "stderr",
     "output_type": "stream",
     "text": [
      "\u001b[34m\u001b[1mval: \u001b[0mScanning /home/ec2-user/hubmap-hacking-the-human-vasculature/project_yolo/data/test_splits/wsi_location/939c99c1e09a/labels... 1 images, 0 backgroun\u001b[0m\n",
      "\u001b[34m\u001b[1mval: \u001b[0mNew cache created: /home/ec2-user/hubmap-hacking-the-human-vasculature/project_yolo/data/test_splits/wsi_location/939c99c1e09a/labels.cache\n",
      "                 Class     Images  Instances      Box(P          R      mAP50  mAP50-95)     Mask(P          R      mAP50  mAP50-95): 100%|██████████| 1/\n",
      "                   all          1         17      0.423      0.588      0.407       0.17      0.552      0.653      0.621      0.238\n",
      "          blood vessel          1         17      0.423      0.588      0.407       0.17      0.552      0.653      0.621      0.238\n",
      "Speed: 0.4ms preprocess, 158.1ms inference, 0.0ms loss, 5.6ms postprocess per image\n",
      "Results saved to \u001b[1mruns/segment/val79\u001b[0m\n",
      "Ultralytics YOLOv8.0.121 🚀 Python-3.10.11 torch-2.0.1+cu117 CPU\n"
     ]
    },
    {
     "name": "stdout",
     "output_type": "stream",
     "text": [
      "0c3086bd8efb\n"
     ]
    },
    {
     "name": "stderr",
     "output_type": "stream",
     "text": [
      "\u001b[34m\u001b[1mval: \u001b[0mScanning /home/ec2-user/hubmap-hacking-the-human-vasculature/project_yolo/data/test_splits/wsi_location/0c3086bd8efb/labels... 1 images, 0 backgroun\u001b[0m\n",
      "\u001b[34m\u001b[1mval: \u001b[0mNew cache created: /home/ec2-user/hubmap-hacking-the-human-vasculature/project_yolo/data/test_splits/wsi_location/0c3086bd8efb/labels.cache\n",
      "                 Class     Images  Instances      Box(P          R      mAP50  mAP50-95)     Mask(P          R      mAP50  mAP50-95): 100%|██████████| 1/\n",
      "                   all          1         20      0.793        0.5      0.663      0.294      0.581      0.762      0.686       0.25\n",
      "          blood vessel          1         20      0.793        0.5      0.663      0.294      0.581      0.762      0.686       0.25\n",
      "Speed: 0.4ms preprocess, 161.8ms inference, 0.0ms loss, 4.5ms postprocess per image\n",
      "Results saved to \u001b[1mruns/segment/val80\u001b[0m\n",
      "Ultralytics YOLOv8.0.121 🚀 Python-3.10.11 torch-2.0.1+cu117 CPU\n"
     ]
    },
    {
     "name": "stdout",
     "output_type": "stream",
     "text": [
      "e3c41ad419a2\n"
     ]
    },
    {
     "name": "stderr",
     "output_type": "stream",
     "text": [
      "\u001b[34m\u001b[1mval: \u001b[0mScanning /home/ec2-user/hubmap-hacking-the-human-vasculature/project_yolo/data/test_splits/wsi_location/e3c41ad419a2/labels... 1 images, 0 backgroun\u001b[0m\n",
      "\u001b[34m\u001b[1mval: \u001b[0mNew cache created: /home/ec2-user/hubmap-hacking-the-human-vasculature/project_yolo/data/test_splits/wsi_location/e3c41ad419a2/labels.cache\n",
      "                 Class     Images  Instances      Box(P          R      mAP50  mAP50-95)     Mask(P          R      mAP50  mAP50-95): 100%|██████████| 1/\n",
      "                   all          1         10      0.476        0.7      0.571      0.255      0.476        0.7      0.582      0.217\n",
      "          blood vessel          1         10      0.476        0.7      0.571      0.255      0.476        0.7      0.582      0.217\n",
      "Speed: 0.4ms preprocess, 158.7ms inference, 0.0ms loss, 3.9ms postprocess per image\n",
      "Results saved to \u001b[1mruns/segment/val81\u001b[0m\n",
      "Ultralytics YOLOv8.0.121 🚀 Python-3.10.11 torch-2.0.1+cu117 CPU\n"
     ]
    },
    {
     "name": "stdout",
     "output_type": "stream",
     "text": [
      "3378fe495259\n"
     ]
    },
    {
     "name": "stderr",
     "output_type": "stream",
     "text": [
      "\u001b[34m\u001b[1mval: \u001b[0mScanning /home/ec2-user/hubmap-hacking-the-human-vasculature/project_yolo/data/test_splits/wsi_location/3378fe495259/labels... 1 images, 0 backgroun\u001b[0m\n",
      "\u001b[34m\u001b[1mval: \u001b[0mNew cache created: /home/ec2-user/hubmap-hacking-the-human-vasculature/project_yolo/data/test_splits/wsi_location/3378fe495259/labels.cache\n",
      "                 Class     Images  Instances      Box(P          R      mAP50  mAP50-95)     Mask(P          R      mAP50  mAP50-95): 100%|██████████| 1/\n",
      "                   all          1         12      0.524      0.667      0.572      0.245      0.524      0.667      0.572      0.159\n",
      "          blood vessel          1         12      0.524      0.667      0.572      0.245      0.524      0.667      0.572      0.159\n",
      "Speed: 0.4ms preprocess, 155.6ms inference, 0.0ms loss, 4.7ms postprocess per image\n",
      "Results saved to \u001b[1mruns/segment/val82\u001b[0m\n",
      "Ultralytics YOLOv8.0.121 🚀 Python-3.10.11 torch-2.0.1+cu117 CPU\n"
     ]
    },
    {
     "name": "stdout",
     "output_type": "stream",
     "text": [
      "61409556c001\n"
     ]
    },
    {
     "name": "stderr",
     "output_type": "stream",
     "text": [
      "\u001b[34m\u001b[1mval: \u001b[0mScanning /home/ec2-user/hubmap-hacking-the-human-vasculature/project_yolo/data/test_splits/wsi_location/61409556c001/labels... 1 images, 0 backgroun\u001b[0m\n",
      "\u001b[34m\u001b[1mval: \u001b[0mNew cache created: /home/ec2-user/hubmap-hacking-the-human-vasculature/project_yolo/data/test_splits/wsi_location/61409556c001/labels.cache\n",
      "                 Class     Images  Instances      Box(P          R      mAP50  mAP50-95)     Mask(P          R      mAP50  mAP50-95): 100%|██████████| 1/\n",
      "                   all          1         18      0.646      0.711      0.696       0.32      0.696      0.762      0.783      0.375\n",
      "          blood vessel          1         18      0.646      0.711      0.696       0.32      0.696      0.762      0.783      0.375\n",
      "Speed: 0.4ms preprocess, 159.4ms inference, 0.0ms loss, 4.2ms postprocess per image\n",
      "Results saved to \u001b[1mruns/segment/val83\u001b[0m\n",
      "Ultralytics YOLOv8.0.121 🚀 Python-3.10.11 torch-2.0.1+cu117 CPU\n"
     ]
    },
    {
     "name": "stdout",
     "output_type": "stream",
     "text": [
      "b9026c35238c\n"
     ]
    },
    {
     "name": "stderr",
     "output_type": "stream",
     "text": [
      "\u001b[34m\u001b[1mval: \u001b[0mScanning /home/ec2-user/hubmap-hacking-the-human-vasculature/project_yolo/data/test_splits/wsi_location/b9026c35238c/labels... 1 images, 0 backgroun\u001b[0m\n",
      "\u001b[34m\u001b[1mval: \u001b[0mNew cache created: /home/ec2-user/hubmap-hacking-the-human-vasculature/project_yolo/data/test_splits/wsi_location/b9026c35238c/labels.cache\n",
      "                 Class     Images  Instances      Box(P          R      mAP50  mAP50-95)     Mask(P          R      mAP50  mAP50-95): 100%|██████████| 1/\n",
      "                   all          1         30      0.856      0.596      0.773      0.348      0.904      0.627      0.797      0.326\n",
      "          blood vessel          1         30      0.856      0.596      0.773      0.348      0.904      0.627      0.797      0.326\n",
      "Speed: 0.4ms preprocess, 157.2ms inference, 0.0ms loss, 3.3ms postprocess per image\n",
      "Results saved to \u001b[1mruns/segment/val84\u001b[0m\n",
      "Ultralytics YOLOv8.0.121 🚀 Python-3.10.11 torch-2.0.1+cu117 CPU\n"
     ]
    },
    {
     "name": "stdout",
     "output_type": "stream",
     "text": [
      "2a4cc81cc5d6\n"
     ]
    },
    {
     "name": "stderr",
     "output_type": "stream",
     "text": [
      "\u001b[34m\u001b[1mval: \u001b[0mScanning /home/ec2-user/hubmap-hacking-the-human-vasculature/project_yolo/data/test_splits/wsi_location/2a4cc81cc5d6/labels... 1 images, 0 backgroun\u001b[0m\n",
      "\u001b[34m\u001b[1mval: \u001b[0mNew cache created: /home/ec2-user/hubmap-hacking-the-human-vasculature/project_yolo/data/test_splits/wsi_location/2a4cc81cc5d6/labels.cache\n",
      "                 Class     Images  Instances      Box(P          R      mAP50  mAP50-95)     Mask(P          R      mAP50  mAP50-95): 100%|██████████| 1/\n",
      "                   all          1         16      0.745       0.75       0.75      0.438      0.738      0.704      0.766      0.441\n",
      "          blood vessel          1         16      0.745       0.75       0.75      0.438      0.738      0.704      0.766      0.441\n",
      "Speed: 0.4ms preprocess, 172.1ms inference, 0.0ms loss, 3.5ms postprocess per image\n",
      "Results saved to \u001b[1mruns/segment/val85\u001b[0m\n",
      "Ultralytics YOLOv8.0.121 🚀 Python-3.10.11 torch-2.0.1+cu117 CPU\n"
     ]
    },
    {
     "name": "stdout",
     "output_type": "stream",
     "text": [
      "8f4c08f55c0f\n"
     ]
    },
    {
     "name": "stderr",
     "output_type": "stream",
     "text": [
      "\u001b[34m\u001b[1mval: \u001b[0mScanning /home/ec2-user/hubmap-hacking-the-human-vasculature/project_yolo/data/test_splits/wsi_location/8f4c08f55c0f/labels... 1 images, 0 backgroun\u001b[0m\n",
      "\u001b[34m\u001b[1mval: \u001b[0mNew cache created: /home/ec2-user/hubmap-hacking-the-human-vasculature/project_yolo/data/test_splits/wsi_location/8f4c08f55c0f/labels.cache\n",
      "                 Class     Images  Instances      Box(P          R      mAP50  mAP50-95)     Mask(P          R      mAP50  mAP50-95): 100%|██████████| 1/\n",
      "                   all          1         28      0.774      0.643      0.658      0.332      0.774      0.643      0.694       0.33\n",
      "          blood vessel          1         28      0.774      0.643      0.658      0.332      0.774      0.643      0.694       0.33\n",
      "Speed: 0.4ms preprocess, 163.2ms inference, 0.0ms loss, 6.1ms postprocess per image\n",
      "Results saved to \u001b[1mruns/segment/val86\u001b[0m\n",
      "Ultralytics YOLOv8.0.121 🚀 Python-3.10.11 torch-2.0.1+cu117 CPU\n"
     ]
    },
    {
     "name": "stdout",
     "output_type": "stream",
     "text": [
      "c956a02b5d22\n"
     ]
    },
    {
     "name": "stderr",
     "output_type": "stream",
     "text": [
      "\u001b[34m\u001b[1mval: \u001b[0mScanning /home/ec2-user/hubmap-hacking-the-human-vasculature/project_yolo/data/test_splits/wsi_location/c956a02b5d22/labels... 1 images, 0 backgroun\u001b[0m\n",
      "\u001b[34m\u001b[1mval: \u001b[0mNew cache created: /home/ec2-user/hubmap-hacking-the-human-vasculature/project_yolo/data/test_splits/wsi_location/c956a02b5d22/labels.cache\n",
      "                 Class     Images  Instances      Box(P          R      mAP50  mAP50-95)     Mask(P          R      mAP50  mAP50-95): 100%|██████████| 1/\n",
      "                   all          1          9      0.332      0.333      0.334      0.179      0.553      0.444      0.401      0.165\n",
      "          blood vessel          1          9      0.332      0.333      0.334      0.179      0.553      0.444      0.401      0.165\n",
      "Speed: 1.0ms preprocess, 166.3ms inference, 0.0ms loss, 2.6ms postprocess per image\n",
      "Results saved to \u001b[1mruns/segment/val87\u001b[0m\n",
      "Ultralytics YOLOv8.0.121 🚀 Python-3.10.11 torch-2.0.1+cu117 CPU\n"
     ]
    },
    {
     "name": "stdout",
     "output_type": "stream",
     "text": [
      "c72da07dc0ee\n"
     ]
    },
    {
     "name": "stderr",
     "output_type": "stream",
     "text": [
      "\u001b[34m\u001b[1mval: \u001b[0mScanning /home/ec2-user/hubmap-hacking-the-human-vasculature/project_yolo/data/test_splits/wsi_location/c72da07dc0ee/labels... 1 images, 0 backgroun\u001b[0m\n",
      "\u001b[34m\u001b[1mval: \u001b[0mNew cache created: /home/ec2-user/hubmap-hacking-the-human-vasculature/project_yolo/data/test_splits/wsi_location/c72da07dc0ee/labels.cache\n",
      "                 Class     Images  Instances      Box(P          R      mAP50  mAP50-95)     Mask(P          R      mAP50  mAP50-95): 100%|██████████| 1/\n",
      "                   all          1         16      0.772      0.635      0.749      0.372      0.848      0.699      0.785      0.427\n",
      "          blood vessel          1         16      0.772      0.635      0.749      0.372      0.848      0.699      0.785      0.427\n",
      "Speed: 0.4ms preprocess, 161.3ms inference, 0.0ms loss, 3.7ms postprocess per image\n",
      "Results saved to \u001b[1mruns/segment/val88\u001b[0m\n",
      "Ultralytics YOLOv8.0.121 🚀 Python-3.10.11 torch-2.0.1+cu117 CPU\n"
     ]
    },
    {
     "name": "stdout",
     "output_type": "stream",
     "text": [
      "4ca084aec87b\n"
     ]
    },
    {
     "name": "stderr",
     "output_type": "stream",
     "text": [
      "\u001b[34m\u001b[1mval: \u001b[0mScanning /home/ec2-user/hubmap-hacking-the-human-vasculature/project_yolo/data/test_splits/wsi_location/4ca084aec87b/labels... 1 images, 0 backgroun\u001b[0m\n",
      "\u001b[34m\u001b[1mval: \u001b[0mNew cache created: /home/ec2-user/hubmap-hacking-the-human-vasculature/project_yolo/data/test_splits/wsi_location/4ca084aec87b/labels.cache\n",
      "                 Class     Images  Instances      Box(P          R      mAP50  mAP50-95)     Mask(P          R      mAP50  mAP50-95): 100%|██████████| 1/\n",
      "                   all          1         19      0.697      0.421      0.453      0.266      0.697      0.421      0.481      0.269\n",
      "          blood vessel          1         19      0.697      0.421      0.453      0.266      0.697      0.421      0.481      0.269\n",
      "Speed: 0.4ms preprocess, 160.5ms inference, 0.0ms loss, 6.5ms postprocess per image\n",
      "Results saved to \u001b[1mruns/segment/val89\u001b[0m\n",
      "Ultralytics YOLOv8.0.121 🚀 Python-3.10.11 torch-2.0.1+cu117 CPU\n"
     ]
    },
    {
     "name": "stdout",
     "output_type": "stream",
     "text": [
      "a3926b1211d3\n"
     ]
    },
    {
     "name": "stderr",
     "output_type": "stream",
     "text": [
      "\u001b[34m\u001b[1mval: \u001b[0mScanning /home/ec2-user/hubmap-hacking-the-human-vasculature/project_yolo/data/test_splits/wsi_location/a3926b1211d3/labels... 1 images, 0 backgroun\u001b[0m\n",
      "\u001b[34m\u001b[1mval: \u001b[0mNew cache created: /home/ec2-user/hubmap-hacking-the-human-vasculature/project_yolo/data/test_splits/wsi_location/a3926b1211d3/labels.cache\n",
      "                 Class     Images  Instances      Box(P          R      mAP50  mAP50-95)     Mask(P          R      mAP50  mAP50-95): 100%|██████████| 1/\n",
      "                   all          1         13      0.888      0.846      0.816      0.366      0.888      0.846      0.816      0.406\n",
      "          blood vessel          1         13      0.888      0.846      0.816      0.366      0.888      0.846      0.816      0.406\n",
      "Speed: 0.4ms preprocess, 155.1ms inference, 0.0ms loss, 4.1ms postprocess per image\n",
      "Results saved to \u001b[1mruns/segment/val90\u001b[0m\n",
      "Ultralytics YOLOv8.0.121 🚀 Python-3.10.11 torch-2.0.1+cu117 CPU\n"
     ]
    },
    {
     "name": "stdout",
     "output_type": "stream",
     "text": [
      "7e97ecdac5d2\n"
     ]
    },
    {
     "name": "stderr",
     "output_type": "stream",
     "text": [
      "\u001b[34m\u001b[1mval: \u001b[0mScanning /home/ec2-user/hubmap-hacking-the-human-vasculature/project_yolo/data/test_splits/wsi_location/7e97ecdac5d2/labels... 1 images, 0 backgroun\u001b[0m\n",
      "\u001b[34m\u001b[1mval: \u001b[0mNew cache created: /home/ec2-user/hubmap-hacking-the-human-vasculature/project_yolo/data/test_splits/wsi_location/7e97ecdac5d2/labels.cache\n",
      "                 Class     Images  Instances      Box(P          R      mAP50  mAP50-95)     Mask(P          R      mAP50  mAP50-95): 100%|██████████| 1/\n",
      "                   all          1          9      0.553      0.444      0.488      0.337      0.701      0.556      0.614      0.368\n",
      "          blood vessel          1          9      0.553      0.444      0.488      0.337      0.701      0.556      0.614      0.368\n",
      "Speed: 0.4ms preprocess, 160.4ms inference, 0.0ms loss, 4.6ms postprocess per image\n",
      "Results saved to \u001b[1mruns/segment/val91\u001b[0m\n",
      "Ultralytics YOLOv8.0.121 🚀 Python-3.10.11 torch-2.0.1+cu117 CPU\n"
     ]
    },
    {
     "name": "stdout",
     "output_type": "stream",
     "text": [
      "92394add7fb2\n"
     ]
    },
    {
     "name": "stderr",
     "output_type": "stream",
     "text": [
      "\u001b[34m\u001b[1mval: \u001b[0mScanning /home/ec2-user/hubmap-hacking-the-human-vasculature/project_yolo/data/test_splits/wsi_location/92394add7fb2/labels... 1 images, 0 backgroun\u001b[0m\n",
      "\u001b[34m\u001b[1mval: \u001b[0mNew cache created: /home/ec2-user/hubmap-hacking-the-human-vasculature/project_yolo/data/test_splits/wsi_location/92394add7fb2/labels.cache\n",
      "                 Class     Images  Instances      Box(P          R      mAP50  mAP50-95)     Mask(P          R      mAP50  mAP50-95): 100%|██████████| 1/\n",
      "                   all          1         11      0.937      0.455      0.554      0.336      0.878      0.455      0.638      0.323\n",
      "          blood vessel          1         11      0.937      0.455      0.554      0.336      0.878      0.455      0.638      0.323\n",
      "Speed: 0.4ms preprocess, 168.5ms inference, 0.0ms loss, 5.1ms postprocess per image\n",
      "Results saved to \u001b[1mruns/segment/val92\u001b[0m\n",
      "Ultralytics YOLOv8.0.121 🚀 Python-3.10.11 torch-2.0.1+cu117 CPU\n"
     ]
    },
    {
     "name": "stdout",
     "output_type": "stream",
     "text": [
      "84d81e7b03c1\n"
     ]
    },
    {
     "name": "stderr",
     "output_type": "stream",
     "text": [
      "\u001b[34m\u001b[1mval: \u001b[0mScanning /home/ec2-user/hubmap-hacking-the-human-vasculature/project_yolo/data/test_splits/wsi_location/84d81e7b03c1/labels... 1 images, 0 backgroun\u001b[0m\n",
      "\u001b[34m\u001b[1mval: \u001b[0mNew cache created: /home/ec2-user/hubmap-hacking-the-human-vasculature/project_yolo/data/test_splits/wsi_location/84d81e7b03c1/labels.cache\n",
      "                 Class     Images  Instances      Box(P          R      mAP50  mAP50-95)     Mask(P          R      mAP50  mAP50-95): 100%|██████████| 1/\n",
      "                   all          1         17      0.894      0.588      0.783      0.441      0.894      0.588      0.783      0.323\n",
      "          blood vessel          1         17      0.894      0.588      0.783      0.441      0.894      0.588      0.783      0.323\n",
      "Speed: 0.4ms preprocess, 164.8ms inference, 0.0ms loss, 3.5ms postprocess per image\n",
      "Results saved to \u001b[1mruns/segment/val93\u001b[0m\n"
     ]
    }
   ],
   "source": [
    "img_scores = {}\n",
    "counter = 0\n",
    "counter_max = 100000\n",
    "for img_id in val_img_ids:\n",
    "    print(img_id)\n",
    "    metrics = model.val(data=f'{yaml_path}/{img_id}.yaml')\n",
    "    img_scores[img_id] = metrics.box.map\n",
    "    del metrics\n",
    "    counter = counter + 1\n",
    "    if (counter > counter_max):\n",
    "        break"
   ]
  },
  {
   "cell_type": "code",
   "execution_count": 15,
   "id": "040416d5",
   "metadata": {
    "scrolled": true
   },
   "outputs": [
    {
     "name": "stdout",
     "output_type": "stream",
     "text": [
      "{'00d75ad65de3': 0.5787953571428573, '15e5df255b86': 0.6771766666666668, '9afac4fc65ef': 0.71854140625, '00656c6f2690': 0.6130217209383754, '0e0836cf1824': 0.4308333333333333, 'e63d156bc72f': 0.40647818181818185, '0a10b8716b30': 0.37289777296628523, '2a577425c773': 0.5155949829734755, '1222b4306c01': 0.5832868413646946, 'a7a03dcb5485': 0.24877873643632215, '7ae0eb4bda2c': 0.5729755351681958, '7e72cf2b43bf': 0.5687079664685908, '65fcbb5ef4c7': 0.6997038610038608, 'eda294658a0a': 0.5026216156651981, '77c7c3714f08': 0.4242418761965444, 'b73efafa7477': 0.36571642820512823, '55eef661b175': 0.6485375806451613, '644a62eaaf2b': 0.4681121000000001, 'e283ea6e3f7b': 0.5407109042553192, 'cfbf75947d43': 0.646758141762452, 'af587261a215': 0.4250688119970354, '55b07829e888': 0.6920770028763185, '333c1d618ae3': 0.6865224820143885, 'cd4b698ac682': 0.636110268487551, '88c95fb9fb14': 0.29808845077220075, 'db20b95a3ab9': 0.7337908284023669, '303b72a38e29': 0.9949999999999999, '91170b600f70': 0.6483586363636363, '0c54942878fa': 0.6022041666666667, 'ef7f5d12b1ff': 0.5714103174603173, '8a6e6fb756da': 0.17200746116628476, '5d0731972927': 0.5060809683459759, '8047c43b1cb2': 0.6844746835443039, '214866956ea3': 0.4031937229437229, 'a977353c25d6': 0.5066654124860646, '2af27d65509c': 0.35137498901098896, '359bb86fa14f': 0.7023285886432207, 'fc6def641612': 0.28071137537954816, 'ed6a92a9410c': 0.600078403830806, '3cf35a0393b8': 0.2499495941859559, 'eba1f93e5a11': 0.23025961538461534, 'e95c2881d1dc': 0.4998439272727273, '91ba77e94fd3': 0.12155771224278804, 'b2e28a0849fb': 0.36741712163120116, '212fc627af24': 0.2885726569405106, 'ccb2255e294d': 0.35020319731936567, '66bc46f89c87': 0.24942936503420024, 'e65fc78aa66a': 0.31064001168014377, '51a2ad418b22': 0.3743592175680429, '27661a87f456': 0.35734644654088055, '73d99bec414b': 0.3183911520525114, 'f38f2f72a1b7': 0.470395611887497, '0acd70e887b3': 0.2011359543854571, '2ad1b19b87df': 0.17449364110786172, 'bb7e7fae1cf4': 0.04828315024198426, '8d60ccc783c1': 0.2944561423004152, 'e93185008c33': 0.20197189366750207, '7fc91238e6f8': 0.3002681111938878, 'a88bead7ca59': 0.33421739329264166, '0067d5ad2250': 0.2460434032298137, '465022519f3f': 0.3363330468801041, '9ba29448632b': 0.3098918075213489, 'ad4cabec2278': 0.34456281313772147, 'a65fdd745f6f': 0.277379647845805, '3879b8c84baf': 0.11659682148695052, 'd3bab0895723': 0.3368142838654223, '5232ba7fa001': 0.409937329634482, '602d24899028': 0.07697055281860721, '55cab2c9c13a': 0.6965, '939c99c1e09a': 0.17043958896599165, '0c3086bd8efb': 0.2935193515783555, 'e3c41ad419a2': 0.25548144685309165, '3378fe495259': 0.24522745962561365, '61409556c001': 0.32022858031900014, 'b9026c35238c': 0.34822151848607796, '2a4cc81cc5d6': 0.4381610082390356, '8f4c08f55c0f': 0.3320625613125197, 'c956a02b5d22': 0.1794912019257174, 'c72da07dc0ee': 0.37237752482053066, '4ca084aec87b': 0.26577392911746256, 'a3926b1211d3': 0.3655011453282828, '7e97ecdac5d2': 0.33725578387550204, '92394add7fb2': 0.33622756734084963, '84d81e7b03c1': 0.44112603435936226}\n"
     ]
    }
   ],
   "source": [
    "print(img_scores)"
   ]
  },
  {
   "cell_type": "code",
   "execution_count": 7,
   "id": "9de510f4",
   "metadata": {},
   "outputs": [],
   "source": [
    "output_path = \"/home/ec2-user/hubmap-hacking-the-human-vasculature/project_yolo/results/test_splits\"\n",
    "results_path = \"/home/ec2-user/hubmap-hacking-the-human-vasculature/project_yolo/results/test_splits/wsi_location/results.pkl\"\n"
   ]
  },
  {
   "cell_type": "code",
   "execution_count": null,
   "id": "86411bf0",
   "metadata": {},
   "outputs": [],
   "source": [
    "# Write the dictionary to the pickle file\n",
    "with open(results_path, 'wb') as file:\n",
    "    pickle.dump(img_scores, file)"
   ]
  },
  {
   "cell_type": "code",
   "execution_count": 8,
   "id": "8f8da601",
   "metadata": {},
   "outputs": [],
   "source": [
    "with open(results_path, 'rb') as file:\n",
    "    results = pickle.load(file)"
   ]
  },
  {
   "cell_type": "code",
   "execution_count": 9,
   "id": "4246151b",
   "metadata": {},
   "outputs": [
    {
     "name": "stdout",
     "output_type": "stream",
     "text": [
      "{'00d75ad65de3': 0.5787953571428573, '15e5df255b86': 0.6771766666666668, '9afac4fc65ef': 0.71854140625, '00656c6f2690': 0.6130217209383754, '0e0836cf1824': 0.4308333333333333, 'e63d156bc72f': 0.40647818181818185, '0a10b8716b30': 0.37289777296628523, '2a577425c773': 0.5155949829734755, '1222b4306c01': 0.5832868413646946, 'a7a03dcb5485': 0.24877873643632215, '7ae0eb4bda2c': 0.5729755351681958, '7e72cf2b43bf': 0.5687079664685908, '65fcbb5ef4c7': 0.6997038610038608, 'eda294658a0a': 0.5026216156651981, '77c7c3714f08': 0.4242418761965444, 'b73efafa7477': 0.36571642820512823, '55eef661b175': 0.6485375806451613, '644a62eaaf2b': 0.4681121000000001, 'e283ea6e3f7b': 0.5407109042553192, 'cfbf75947d43': 0.646758141762452, 'af587261a215': 0.4250688119970354, '55b07829e888': 0.6920770028763185, '333c1d618ae3': 0.6865224820143885, 'cd4b698ac682': 0.636110268487551, '88c95fb9fb14': 0.29808845077220075, 'db20b95a3ab9': 0.7337908284023669, '303b72a38e29': 0.9949999999999999, '91170b600f70': 0.6483586363636363, '0c54942878fa': 0.6022041666666667, 'ef7f5d12b1ff': 0.5714103174603173, '8a6e6fb756da': 0.17200746116628476, '5d0731972927': 0.5060809683459759, '8047c43b1cb2': 0.6844746835443039, '214866956ea3': 0.4031937229437229, 'a977353c25d6': 0.5066654124860646, '2af27d65509c': 0.35137498901098896, '359bb86fa14f': 0.7023285886432207, 'fc6def641612': 0.28071137537954816, 'ed6a92a9410c': 0.600078403830806, '3cf35a0393b8': 0.2499495941859559, 'eba1f93e5a11': 0.23025961538461534, 'e95c2881d1dc': 0.4998439272727273, '91ba77e94fd3': 0.12155771224278804, 'b2e28a0849fb': 0.36741712163120116, '212fc627af24': 0.2885726569405106, 'ccb2255e294d': 0.35020319731936567, '66bc46f89c87': 0.24942936503420024, 'e65fc78aa66a': 0.31064001168014377, '51a2ad418b22': 0.3743592175680429, '27661a87f456': 0.35734644654088055, '73d99bec414b': 0.3183911520525114, 'f38f2f72a1b7': 0.470395611887497, '0acd70e887b3': 0.2011359543854571, '2ad1b19b87df': 0.17449364110786172, 'bb7e7fae1cf4': 0.04828315024198426, '8d60ccc783c1': 0.2944561423004152, 'e93185008c33': 0.20197189366750207, '7fc91238e6f8': 0.3002681111938878, 'a88bead7ca59': 0.33421739329264166, '0067d5ad2250': 0.2460434032298137, '465022519f3f': 0.3363330468801041, '9ba29448632b': 0.3098918075213489, 'ad4cabec2278': 0.34456281313772147, 'a65fdd745f6f': 0.277379647845805, '3879b8c84baf': 0.11659682148695052, 'd3bab0895723': 0.3368142838654223, '5232ba7fa001': 0.409937329634482, '602d24899028': 0.07697055281860721, '55cab2c9c13a': 0.6965, '939c99c1e09a': 0.17043958896599165, '0c3086bd8efb': 0.2935193515783555, 'e3c41ad419a2': 0.25548144685309165, '3378fe495259': 0.24522745962561365, '61409556c001': 0.32022858031900014, 'b9026c35238c': 0.34822151848607796, '2a4cc81cc5d6': 0.4381610082390356, '8f4c08f55c0f': 0.3320625613125197, 'c956a02b5d22': 0.1794912019257174, 'c72da07dc0ee': 0.37237752482053066, '4ca084aec87b': 0.26577392911746256, 'a3926b1211d3': 0.3655011453282828, '7e97ecdac5d2': 0.33725578387550204, '92394add7fb2': 0.33622756734084963, '84d81e7b03c1': 0.44112603435936226}\n"
     ]
    }
   ],
   "source": [
    "print(results)"
   ]
  },
  {
   "cell_type": "code",
   "execution_count": 21,
   "id": "675fe710",
   "metadata": {},
   "outputs": [
    {
     "name": "stdout",
     "output_type": "stream",
     "text": [
      "59 103\n"
     ]
    }
   ],
   "source": [
    "i_max = int(tile_meta['i'].max()/512)\n",
    "j_max = int(tile_meta['j'].max()/512)\n",
    "print(i_max, j_max)"
   ]
  },
  {
   "cell_type": "code",
   "execution_count": 24,
   "id": "747ab9c2",
   "metadata": {
    "scrolled": true
   },
   "outputs": [
    {
     "data": {
      "text/html": [
       "<div>\n",
       "<style scoped>\n",
       "    .dataframe tbody tr th:only-of-type {\n",
       "        vertical-align: middle;\n",
       "    }\n",
       "\n",
       "    .dataframe tbody tr th {\n",
       "        vertical-align: top;\n",
       "    }\n",
       "\n",
       "    .dataframe thead th {\n",
       "        text-align: right;\n",
       "    }\n",
       "</style>\n",
       "<table border=\"1\" class=\"dataframe\">\n",
       "  <thead>\n",
       "    <tr style=\"text-align: right;\">\n",
       "      <th></th>\n",
       "      <th>id</th>\n",
       "      <th>source_wsi</th>\n",
       "      <th>dataset</th>\n",
       "      <th>i</th>\n",
       "      <th>j</th>\n",
       "    </tr>\n",
       "  </thead>\n",
       "  <tbody>\n",
       "    <tr>\n",
       "      <th>0</th>\n",
       "      <td>0006ff2aa7cd</td>\n",
       "      <td>2</td>\n",
       "      <td>2</td>\n",
       "      <td>16896</td>\n",
       "      <td>16420</td>\n",
       "    </tr>\n",
       "    <tr>\n",
       "      <th>1</th>\n",
       "      <td>000e79e206b7</td>\n",
       "      <td>6</td>\n",
       "      <td>3</td>\n",
       "      <td>10240</td>\n",
       "      <td>29184</td>\n",
       "    </tr>\n",
       "    <tr>\n",
       "      <th>2</th>\n",
       "      <td>00168d1b7522</td>\n",
       "      <td>2</td>\n",
       "      <td>2</td>\n",
       "      <td>14848</td>\n",
       "      <td>14884</td>\n",
       "    </tr>\n",
       "    <tr>\n",
       "      <th>3</th>\n",
       "      <td>00176a88fdb0</td>\n",
       "      <td>7</td>\n",
       "      <td>3</td>\n",
       "      <td>14848</td>\n",
       "      <td>25088</td>\n",
       "    </tr>\n",
       "    <tr>\n",
       "      <th>4</th>\n",
       "      <td>0033bbc76b6b</td>\n",
       "      <td>1</td>\n",
       "      <td>1</td>\n",
       "      <td>10240</td>\n",
       "      <td>43008</td>\n",
       "    </tr>\n",
       "  </tbody>\n",
       "</table>\n",
       "</div>"
      ],
      "text/plain": [
       "             id  source_wsi  dataset      i      j\n",
       "0  0006ff2aa7cd           2        2  16896  16420\n",
       "1  000e79e206b7           6        3  10240  29184\n",
       "2  00168d1b7522           2        2  14848  14884\n",
       "3  00176a88fdb0           7        3  14848  25088\n",
       "4  0033bbc76b6b           1        1  10240  43008"
      ]
     },
     "execution_count": 24,
     "metadata": {},
     "output_type": "execute_result"
    }
   ],
   "source": [
    "tile_meta.head()"
   ]
  },
  {
   "cell_type": "code",
   "execution_count": 25,
   "id": "04ece366",
   "metadata": {},
   "outputs": [],
   "source": [
    "tile_meta = pd.read_csv(f'{basepath}/tile_meta.csv')\n",
    "tile_wsi = {}\n",
    "for i in range(len(tile_meta)):\n",
    "    data = tile_meta.iloc[i]\n",
    "    tile_wsi[data['id']] = data['source_wsi']"
   ]
  },
  {
   "cell_type": "code",
   "execution_count": 27,
   "id": "a24b0500",
   "metadata": {},
   "outputs": [
    {
     "name": "stdout",
     "output_type": "stream",
     "text": [
      "{1, 2, 3, 4, 6, 7, 8, 9, 10, 11, 12, 13, 14}\n"
     ]
    }
   ],
   "source": [
    "print(set(tile_wsi.values()))"
   ]
  },
  {
   "cell_type": "code",
   "execution_count": 34,
   "id": "1dc27dc2",
   "metadata": {},
   "outputs": [
    {
     "name": "stdout",
     "output_type": "stream",
     "text": [
      "(array([1, 2]), array([1, 2]))\n",
      "1 2 1 2\n"
     ]
    },
    {
     "data": {
      "image/png": "[encoded data removed]",
      "text/plain": [
       "<Figure size 640x480 with 2 Axes>"
      ]
     },
     "metadata": {},
     "output_type": "display_data"
    }
   ],
   "source": [
    "import numpy as np\n",
    "import matplotlib.pyplot as plt\n",
    "\n",
    "# Create a sample 2D array with zero values\n",
    "data = np.array([[0, 0, 0, 0],\n",
    "                 [0, 1, 0, 0],\n",
    "                 [0, 0, 2, 0],\n",
    "                 [0, 0, 0, 0]])\n",
    "\n",
    "# Get the dimensions of the non-zero region\n",
    "nonzero_indices = np.nonzero(data)\n",
    "xmin, xmax = np.min(nonzero_indices[1]), np.max(nonzero_indices[1])\n",
    "ymin, ymax = np.min(nonzero_indices[0]), np.max(nonzero_indices[0])\n",
    "print(nonzero_indices)\n",
    "print(xmin, xmax,ymin, ymax)\n",
    "# Plot the heatmap\n",
    "plt.imshow(data, cmap='hot', interpolation='nearest', extent=[xmin, xmax, ymin, ymax])\n",
    "\n",
    "# Add colorbar\n",
    "plt.colorbar()\n",
    "\n",
    "# Show the plot\n",
    "plt.show()\n"
   ]
  },
  {
   "cell_type": "code",
   "execution_count": 36,
   "id": "aa8a3f9c",
   "metadata": {},
   "outputs": [
    {
     "name": "stdout",
     "output_type": "stream",
     "text": [
      "1\n"
     ]
    },
    {
     "data": {
      "image/png": "[encoded data removed]",
      "text/plain": [
       "<Figure size 640x480 with 2 Axes>"
      ]
     },
     "metadata": {},
     "output_type": "display_data"
    },
    {
     "name": "stdout",
     "output_type": "stream",
     "text": [
      "2\n"
     ]
    },
    {
     "data": {
      "image/png": "[encoded data removed]",
      "text/plain": [
       "<Figure size 640x480 with 2 Axes>"
      ]
     },
     "metadata": {},
     "output_type": "display_data"
    }
   ],
   "source": [
    "val_wsis = {}\n",
    "for img_id in val_img_ids:\n",
    "    wsi = tile_wsi[img_id]\n",
    "    if wsi in val_wsis:\n",
    "        val_wsis[wsi].append(img_id)\n",
    "    else:\n",
    "        val_wsis[wsi] = [img_id]\n",
    "for val_wsi in val_wsis:\n",
    "    print(val_wsi)\n",
    "    score_matrix = np.zeros((i_max + 1, j_max + 1))\n",
    "    for img_id in val_wsis[val_wsi]:\n",
    "        x = int(tile_map[img_id][0]/512)\n",
    "        y = int(tile_map[img_id][1]/512)\n",
    "        score = results[img_id]\n",
    "        score_matrix[x,y] = score\n",
    "    plt.imshow(score_matrix, cmap='hot', interpolation='nearest')\n",
    "    plt.colorbar()\n",
    "    plt.show()\n",
    "        "
   ]
  },
  {
   "cell_type": "code",
   "execution_count": 23,
   "id": "f597a559",
   "metadata": {},
   "outputs": [
    {
     "data": {
      "image/png": "[encoded data removed]",
      "text/plain": [
       "<Figure size 640x480 with 2 Axes>"
      ]
     },
     "metadata": {},
     "output_type": "display_data"
    }
   ],
   "source": [
    "plt.imshow(score_matrix, cmap='hot', interpolation='nearest')\n",
    "plt.colorbar()\n",
    "plt.show()"
   ]
  },
  {
   "cell_type": "code",
   "execution_count": null,
   "id": "670784bf",
   "metadata": {
    "execution": {
     "iopub.execute_input": "2023-06-24T11:20:29.830746Z",
     "iopub.status.busy": "2023-06-24T11:20:29.830477Z",
     "iopub.status.idle": "2023-06-24T11:20:29.840835Z",
     "shell.execute_reply": "2023-06-24T11:20:29.839935Z"
    },
    "papermill": {
     "duration": 0.017333,
     "end_time": "2023-06-24T11:20:29.842828",
     "exception": false,
     "start_time": "2023-06-24T11:20:29.825495",
     "status": "completed"
    },
    "tags": []
   },
   "outputs": [],
   "source": [
    "import time\n",
    "def generate_submission(model, validation_folder, conf=0.001):\n",
    "    submission_dicts = []\n",
    "    start_time = time.time()\n",
    "    validation_list = os.listdir(validation_folder)\n",
    "    all_classes = set()\n",
    "    for idx, file_name in enumerate(validation_list):\n",
    "        cur_dict = dict()\n",
    "        img_id = file_name.split('.')[0]\n",
    "        cur_dict['id'] = img_id\n",
    "        im = cv2.imread(f'{validation_folder}/{file_name}')\n",
    "        height, width = im.shape[:2]\n",
    "        cur_dict['height'] = height\n",
    "        cur_dict['width'] = width\n",
    "        results = model(f'{validation_folder}/{file_name}', conf=conf)\n",
    "        prediction_string = ''\n",
    "        boxes = results[0].boxes\n",
    "        masks = results[0].masks\n",
    "        for i in range(len(boxes)):\n",
    "            box = boxes[i]\n",
    "            mask = masks[i]\n",
    "            cur_category = int(box.cls.item())\n",
    "            confidence = box.conf\n",
    "            if cur_category == 0:\n",
    "                polygon_mask_string = encode_binary_mask(np.array(mask.data[0,:,:].cpu(), dtype=bool)).decode('utf-8')\n",
    "                prediction_string += f'{cur_category} {confidence.item()} {polygon_mask_string} '\n",
    "        cur_dict['prediction_string'] = prediction_string.strip()\n",
    "        submission_dicts.append(cur_dict)\n",
    "        if (idx+1) % 500 == 0:\n",
    "            print(f'On batch {idx} and finished in {float(time.time()-start_time)/60} minutes')\n",
    "    submission_df = pd.DataFrame.from_dict(submission_dicts)\n",
    "    submission_df.to_csv(f'submission.csv', index=False)"
   ]
  },
  {
   "cell_type": "code",
   "execution_count": null,
   "id": "50232e9a",
   "metadata": {
    "execution": {
     "iopub.execute_input": "2023-06-24T11:20:29.851869Z",
     "iopub.status.busy": "2023-06-24T11:20:29.851606Z",
     "iopub.status.idle": "2023-06-24T11:20:49.809401Z",
     "shell.execute_reply": "2023-06-24T11:20:49.808445Z"
    },
    "papermill": {
     "duration": 19.964978,
     "end_time": "2023-06-24T11:20:49.811753",
     "exception": false,
     "start_time": "2023-06-24T11:20:29.846775",
     "status": "completed"
    },
    "tags": []
   },
   "outputs": [],
   "source": [
    "generate_submission(model, validation_folder)"
   ]
  },
  {
   "cell_type": "code",
   "execution_count": null,
   "id": "5106aa05",
   "metadata": {
    "papermill": {
     "duration": 0.004274,
     "end_time": "2023-06-24T11:20:49.820650",
     "exception": false,
     "start_time": "2023-06-24T11:20:49.816376",
     "status": "completed"
    },
    "tags": []
   },
   "outputs": [],
   "source": []
  }
 ],
 "metadata": {
  "kernelspec": {
   "display_name": "yolo_env",
   "language": "python",
   "name": "yolo_env"
  },
  "language_info": {
   "codemirror_mode": {
    "name": "ipython",
    "version": 3
   },
   "file_extension": ".py",
   "mimetype": "text/x-python",
   "name": "python",
   "nbconvert_exporter": "python",
   "pygments_lexer": "ipython3",
   "version": "3.10.11"
  },
  "papermill": {
   "default_parameters": {},
   "duration": 72.715898,
   "end_time": "2023-06-24T11:20:55.230904",
   "environment_variables": {},
   "exception": null,
   "input_path": "__notebook__.ipynb",
   "output_path": "__notebook__.ipynb",
   "parameters": {},
   "start_time": "2023-06-24T11:19:42.515006",
   "version": "2.4.0"
  }
 },
 "nbformat": 4,
 "nbformat_minor": 5
}
