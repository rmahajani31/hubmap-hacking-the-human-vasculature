{
 "cells": [
  {
   "cell_type": "code",
   "execution_count": null,
   "id": "4c82b133",
   "metadata": {},
   "outputs": [],
   "source": [
    "import os\n",
    "import numpy as np\n",
    "import pandas as pd\n",
    "import matplotlib.pyplot as plt\n",
    "import cv2\n",
    "import json\n",
    "from PIL import Image\n",
    "from collections import Counter\n",
    "import pickle"
   ]
  },
  {
   "cell_type": "code",
   "execution_count": null,
   "id": "93399e80",
   "metadata": {},
   "outputs": [],
   "source": [
    "base_path = '..'\n",
    "generate_all_datset_annots = True\n",
    "tile_categories = ['blood_vessel']\n",
    "input_imgs_path = f'{base_path}/dataset1_files/all_dataset1_imgs' if not generate_all_datset_annots else f'{base_path}/all_dataset_files/all_dataset_imgs'\n",
    "output_annotations_path = f'{base_path}/dataset1_files/all_dataset1_annotations' if not generate_all_datset_annots else f'{base_path}/all_dataset_files/all_dataset_annotations'\n",
    "if not os.path.exists(output_annotations_path):\n",
    "    os.mkdir(output_annotations_path)"
   ]
  },
  {
   "cell_type": "code",
   "execution_count": null,
   "id": "02cfe4d7",
   "metadata": {},
   "outputs": [],
   "source": [
    "def get_count_type(tiles_dict):\n",
    "  ids_with_info = []\n",
    "  for tile in tiles_dict:\n",
    "    cur_dict = {'id': tile['id'], 'blood_vessel': 0, 'glomerulus': 0, 'unsure': 0}\n",
    "    for annot in tile['annotations']:\n",
    "      cur_dict[annot['type']] += 1\n",
    "    ids_with_info.append(cur_dict)\n",
    "  return ids_with_info"
   ]
  },
  {
   "cell_type": "code",
   "execution_count": null,
   "id": "0746f13a",
   "metadata": {},
   "outputs": [],
   "source": [
    "with open(f'{base_path}/polygons.jsonl', 'r') as json_file:\n",
    "    json_list = list(json_file)\n",
    "    \n",
    "    \n",
    "tiles_dicts = []\n",
    "for json_str in json_list:\n",
    "    tiles_dicts.append(json.loads(json_str))"
   ]
  },
  {
   "cell_type": "code",
   "execution_count": null,
   "id": "772e29f7",
   "metadata": {},
   "outputs": [],
   "source": [
    "tile_df = pd.read_csv(f'{base_path}/tile_meta.csv')\n",
    "# Find the same stats as the above cell for annotated images\n",
    "annotated_ids_with_info = get_count_type(tiles_dicts)\n",
    "annotated_ids_with_info_df = pd.DataFrame.from_dict(annotated_ids_with_info)\n",
    "tile_df_annotated = pd.merge(tile_df, annotated_ids_with_info_df, on='id', how='inner')\n",
    "tile_df_annotated.head()"
   ]
  },
  {
   "cell_type": "code",
   "execution_count": null,
   "id": "19221827",
   "metadata": {},
   "outputs": [],
   "source": [
    "tile_df_annotated.loc[tile_df_annotated['glomerulus']>0].head()"
   ]
  },
  {
   "cell_type": "code",
   "execution_count": null,
   "id": "dd8dab51",
   "metadata": {},
   "outputs": [],
   "source": [
    "dataset_1_tile_ids = sorted(tile_df_annotated.loc[tile_df_annotated['dataset']==1, 'id'].values)\n",
    "# dataset_2_tile_ids = sorted(tile_df_annotated.loc[tile_df_annotated['dataset']==2, 'id'].values)"
   ]
  },
  {
   "cell_type": "code",
   "execution_count": null,
   "id": "ff649409",
   "metadata": {},
   "outputs": [],
   "source": [
    "tgt_tile_dicts = [x for x in tiles_dicts if x['id'] in dataset_1_tile_ids] if not generate_all_datset_annots else tiles_dicts\n",
    "print(len(tgt_tile_dicts))"
   ]
  },
  {
   "cell_type": "code",
   "execution_count": null,
   "id": "a40cdf4b",
   "metadata": {},
   "outputs": [],
   "source": [
    "tgt_tile_dicts[0]"
   ]
  },
  {
   "cell_type": "code",
   "execution_count": null,
   "id": "f0582036",
   "metadata": {},
   "outputs": [],
   "source": [
    "def calculate_area(coordinates):\n",
    "    num_points = len(coordinates)\n",
    "    if num_points < 3:\n",
    "        return 0\n",
    "\n",
    "    area = 0\n",
    "    for i in range(num_points - 1):\n",
    "        x_i, y_i = coordinates[i]\n",
    "        x_iplus1, y_iplus1 = coordinates[i + 1]\n",
    "        area += (x_i * y_iplus1) - (x_iplus1 * y_i)\n",
    "\n",
    "    x_n, y_n = coordinates[-1]\n",
    "    x_0, y_0 = coordinates[0]\n",
    "    area += (x_n * y_0) - (x_0 * y_n)\n",
    "\n",
    "    area = abs(area / 2)\n",
    "    return area"
   ]
  },
  {
   "cell_type": "code",
   "execution_count": null,
   "id": "c13e91e1",
   "metadata": {},
   "outputs": [],
   "source": [
    "for tgt_tile_dict in tgt_tile_dicts:\n",
    "  cur_tile_coco_annots = []\n",
    "  img_id = tgt_tile_dict['id']\n",
    "  annotations = [annot for annot in tgt_tile_dict['annotations'] if annot['type'] in tile_categories]\n",
    "  for annot in annotations:\n",
    "    coords = annot['coordinates'][0]\n",
    "    segmentations = [[pt for pair in coords for pt in pair]]\n",
    "    segmentation_area = calculate_area(coords)\n",
    "    min_x = min(coords, key=lambda x: x[0])[0]\n",
    "    max_x = max(coords, key=lambda x: x[0])[0]\n",
    "    min_y = min(coords, key=lambda x: x[1])[1]\n",
    "    max_y = max(coords, key=lambda x: x[1])[1]\n",
    "    segmentation_bbox = [min_x, min_y, max_x-min_x, max_y-min_y]\n",
    "    category_id = tile_categories.index(annot['type'])\n",
    "    cur_tile_coco_annots.append({\n",
    "      'segmentation': segmentations,\n",
    "      'area': segmentation_area,\n",
    "      'bbox': segmentation_bbox,\n",
    "      'category_id': category_id\n",
    "    })\n",
    "  with open(f'{output_annotations_path}/{img_id}.pkl', 'wb') as f:\n",
    "    pickle.dump(cur_tile_coco_annots, f, protocol=pickle.HIGHEST_PROTOCOL)"
   ]
  },
  {
   "cell_type": "code",
   "execution_count": null,
   "id": "597dc992",
   "metadata": {},
   "outputs": [],
   "source": [
    "img_annot_files = os.listdir(output_annotations_path)\n",
    "img_annot_files[67:72]"
   ]
  },
  {
   "cell_type": "code",
   "execution_count": null,
   "id": "b1044125",
   "metadata": {},
   "outputs": [],
   "source": [
    "import random\n",
    "img_annot_file = random.choice(img_annot_files)"
   ]
  },
  {
   "cell_type": "code",
   "execution_count": null,
   "id": "312f3443",
   "metadata": {},
   "outputs": [],
   "source": [
    "img_annot_file"
   ]
  },
  {
   "cell_type": "code",
   "execution_count": null,
   "id": "c9a04c23",
   "metadata": {},
   "outputs": [],
   "source": [
    "# helper function for data visualization\n",
    "def visualize(**images):\n",
    "    \"\"\"PLot images in one row.\"\"\"\n",
    "    n = len(images)\n",
    "    plt.figure(figsize=(16, 5))\n",
    "    for i, (name, image) in enumerate(images.items()):\n",
    "        plt.subplot(1, n, i + 1)\n",
    "        plt.xticks([])\n",
    "        plt.yticks([])\n",
    "        plt.title(' '.join(name.split('_')).title())\n",
    "        plt.imshow(image)\n",
    "    plt.show()"
   ]
  },
  {
   "cell_type": "code",
   "execution_count": null,
   "id": "e0550bce",
   "metadata": {},
   "outputs": [],
   "source": [
    "import copy\n",
    "tgt_annot_files = ['5ea525251225.pkl']\n",
    "# for i in range(10):\n",
    "#   img_annot_file = random.choice(img_annot_files)\n",
    "for img_annot_file in tgt_annot_files:\n",
    "  img_id = img_annot_file.split('.')[0]\n",
    "  with open(f'{output_annotations_path}/{img_annot_file}', 'rb') as f:\n",
    "    tgt_annots = pickle.load(f)\n",
    "  # print(tgt_annots)\n",
    "  tgt_annots = [annot for annot in tgt_annots if annot['category_id']==0]\n",
    "  base_image = cv2.imread(f'{input_imgs_path}/{img_id}.png')\n",
    "  base_image = cv2.cvtColor(base_image, cv2.COLOR_BGR2RGB)\n",
    "  annotated_image_orig = copy.deepcopy(base_image)\n",
    "  annotated_image_coco = copy.deepcopy(base_image)\n",
    "  imgs_dict = dict()\n",
    "  imgs_dict['base_image'] = base_image\n",
    "  for tgt_annot in tgt_annots:\n",
    "    coords = [[x, y] for x, y in zip(tgt_annot['segmentation'][0][::2], tgt_annot['segmentation'][0][1::2])]\n",
    "    min_x, min_y, width, height = tgt_annot['bbox']\n",
    "    cv2.fillPoly(annotated_image_coco, pts=[np.array(coords)], color=(0,255,0))\n",
    "    top_left = (int(tgt_annot['bbox'][0]), int(tgt_annot['bbox'][1]))\n",
    "    min_x = min(coords, key=lambda x: x[0])[0]\n",
    "    min_y = min(coords, key=lambda x: x[1])[1]\n",
    "    max_x = max(coords, key=lambda x: x[0])[0]\n",
    "    max_y = max(coords, key=lambda x: x[1])[1]\n",
    "    bottom_right = (int(tgt_annot['bbox'][0]+tgt_annot['bbox'][2]), int(tgt_annot['bbox'][1]+tgt_annot['bbox'][3]))\n",
    "    annotated_image_coco = cv2.rectangle(annotated_image_coco, top_left, bottom_right, (255,0,0), 2)\n",
    "\n",
    "  tgt_orig_annots = [annot for annot in [x for x in tgt_tile_dicts if x['id']==img_id][0]['annotations'] if annot['type']=='blood_vessel']\n",
    "  for tgt_orig_annot in tgt_orig_annots:\n",
    "    coords = tgt_orig_annot['coordinates']\n",
    "    cv2.fillPoly(annotated_image_orig, pts=[np.array(coords)], color=(0,255,0))\n",
    "  imgs_dict['annotated_image_orig'] = annotated_image_orig\n",
    "  imgs_dict['annotated_image_coco'] = annotated_image_coco\n",
    "  visualize(**imgs_dict)"
   ]
  },
  {
   "cell_type": "code",
   "execution_count": null,
   "id": "7bf90c0d",
   "metadata": {},
   "outputs": [],
   "source": [
    "import os\n",
    "import pickle\n",
    "train_annots_path = '/home/ec2-user/hubmap-hacking-the-human-vasculature/dataset1_files/all_dataset1_annotations_train_0'\n",
    "train_annot_files = os.listdir(train_annots_path)\n",
    "category_ids = set()\n",
    "for train_annot_file in train_annot_files:\n",
    "    with open(f'{train_annots_path}/{train_annot_file}', 'rb') as f:\n",
    "        annots = pickle.load(f)\n",
    "    for annot in annots:\n",
    "        category_ids.add(annot['category_id'])"
   ]
  },
  {
   "cell_type": "code",
   "execution_count": null,
   "id": "7d6a11e4",
   "metadata": {},
   "outputs": [],
   "source": [
    "category_ids"
   ]
  },
  {
   "cell_type": "code",
   "execution_count": null,
   "id": "972dea52",
   "metadata": {},
   "outputs": [],
   "source": [
    "glomerulus_annots = []\n",
    "blood_vessel_annots = []\n",
    "for tgt_tile_dict in tgt_tile_dicts:\n",
    "  cur_tile_coco_annots = []\n",
    "  img_id = tgt_tile_dict['id']\n",
    "  for annot in annotations:\n",
    "    coords = annot['coordinates'][0]\n",
    "    segmentations = [[pt for pair in coords for pt in pair]]\n",
    "    segmentation_area = calculate_area(coords)\n",
    "    min_x = min(coords, key=lambda x: x[0])[0]\n",
    "    max_x = max(coords, key=lambda x: x[0])[0]\n",
    "    min_y = min(coords, key=lambda x: x[1])[1]\n",
    "    max_y = max(coords, key=lambda x: x[1])[1]\n",
    "    segmentation_bbox = [min_x, min_y, max_x-min_x, max_y-min_y]\n",
    "    cur_annot = {\n",
    "      'segmentation': segmentations,\n",
    "      'area': segmentation_area,\n",
    "      'bbox': segmentation_bbox,\n",
    "      'category_id': category_id\n",
    "    }\n",
    "    if annot['type'] == 'glomerulus':\n",
    "        glomerulus_annots.append(cur_annot)\n",
    "    elif annot['type'] == 'blood_vessel':\n",
    "        blood_vessel_annots.append(cur_annot)"
   ]
  },
  {
   "cell_type": "code",
   "execution_count": null,
   "id": "118878ec",
   "metadata": {},
   "outputs": [],
   "source": []
  }
 ],
 "metadata": {
  "kernelspec": {
   "display_name": "yolo_env",
   "language": "python",
   "name": "yolo_env"
  },
  "language_info": {
   "codemirror_mode": {
    "name": "ipython",
    "version": 3
   },
   "file_extension": ".py",
   "mimetype": "text/x-python",
   "name": "python",
   "nbconvert_exporter": "python",
   "pygments_lexer": "ipython3",
   "version": "3.10.11"
  }
 },
 "nbformat": 4,
 "nbformat_minor": 5
}
